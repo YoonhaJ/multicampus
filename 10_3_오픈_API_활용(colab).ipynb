{
  "cells": [
    {
      "cell_type": "markdown",
      "metadata": {
        "id": "view-in-github",
        "colab_type": "text"
      },
      "source": [
        "<a href=\"https://colab.research.google.com/github/YoonhaJ/multicampus/blob/main/10_3_%EC%98%A4%ED%94%88_API_%ED%99%9C%EC%9A%A9(colab).ipynb\" target=\"_parent\"><img src=\"https://colab.research.google.com/assets/colab-badge.svg\" alt=\"Open In Colab\"/></a>"
      ]
    },
    {
      "cell_type": "markdown",
      "metadata": {
        "id": "yKZMuB5s0lFO"
      },
      "source": [
        "## OPEN API 활용 : 네이버 블로그 키워드 검색 -> 워드 클라우드\n",
        "참고 사이트 : https://developers.naver.com/docs/search/blog/"
      ]
    },
    {
      "cell_type": "code",
      "execution_count": null,
      "metadata": {
        "colab": {
          "base_uri": "https://localhost:8080/",
          "height": 1000
        },
        "id": "Oq4Iscjg1WJQ",
        "outputId": "942efdb9-4b4a-4435-d953-bf1fa405e5fe"
      },
      "outputs": [
        {
          "name": "stdout",
          "output_type": "stream",
          "text": [
            "{\n",
            "\"lastBuildDate\": \"Mon, 02 Mar 2020 10:39:41 +0900\",\n",
            "\"total\": 425921,\n",
            "\"start\": 1,\n",
            "\"display\": 10,\n",
            "\"items\": [\n",
            "{\n",
            "\"title\": \"엄마 반성문 (ft. <b>신종코로나</b> 때문이야.)\",\n",
            "\"link\": \"https:\\/\\/blog.naver.com\\/simplebean33?Redirect=Log&logNo=221832502301\",\n",
            "\"description\": \"<b>신종코로나</b>로 인해 일상이... 하루 종일 삼식이들 밥 해먹이다 보니, 주방에서만 사는 것 같다. 밥하고 설거지하고, 밥하고 설거지하고... 삼식이 ; <b>신종코로나</b> 일상 요즘 즈이집... #<b>신종코로나</b> 때문에 온가족이... \",\n",
            "\"bloggername\": \"Here&Now\",\n",
            "\"bloggerlink\": \"https://blog.naver.com/simplebean33\",\n",
            "\"postdate\": \"20200302\"\n",
            "\n",
            "},\n",
            "{\n",
            "\"title\": \"<b>신종 코로나</b>바이러스와 떨어진 숲세권 이천전원주택매매\",\n",
            "\"link\": \"https:\\/\\/blog.naver.com\\/sha_adm?Redirect=Log&logNo=221830366462\",\n",
            "\"description\": \"<b>신종 코로나</b>바이러스와 떨어진 숲세권 이천전원주택매매 요즘 계속 이슈가 되고 있는 화재거리는 아무래도 <b>신종 코로나</b>바이러스겠죠? 하루하루가 기하급수적으로 늘어나고 있는 현재 오늘은 확진자가... \",\n",
            "\"bloggername\": \"블루오션\",\n",
            "\"bloggerlink\": \"https://blog.naver.com/sha_adm\",\n",
            "\"postdate\": \"20200229\"\n",
            "\n",
            "},\n",
            "{\n",
            "\"title\": \"<b>신종코로나</b> 이탈리아 현지소식 2\",\n",
            "\"link\": \"https:\\/\\/blog.naver.com\\/zzan2580?Redirect=Log&logNo=221832617836\",\n",
            "\"description\": \"이탈리아에서 <b>신종코로나</b>에 감염된 우리나라 국민이 나왔습니다. 가수 청하의... 현재 이탈리아 코로나 현황은 아래 사이트가 정확해요 http://www.salute.gov.it/portale... \",\n",
            "\"bloggername\": \"길치양의 게으른 여행일지\",\n",
            "\"bloggerlink\": \"https://blog.naver.com/zzan2580\",\n",
            "\"postdate\": \"20200301\"\n",
            "\n",
            "},\n",
            "{\n",
            "\"title\": \"‘<b>신종 코로나</b> 공포’ 해외 전문가 긴급 진단\",\n",
            "\"link\": \"https:\\/\\/blog.naver.com\\/thyoon55?Redirect=Log&logNo=221832753964\",\n",
            "\"description\": \"해외 이코노미스트 긴급 진단“<b>신종 코로나</b>는 ‘경제 팬데믹’…골든타임 놓치면 글로벌 경기 둔화로 전이” “<b>신종 코로나</b> 바이러스 감염증(이하 <b>신종 코로나</b>)에 비하면 사스는 최고의 시나리오였다.”... \",\n",
            "\"bloggername\": \"주식과 부동산\",\n",
            "\"bloggerlink\": \"https://blog.naver.com/thyoon55\",\n",
            "\"postdate\": \"20200302\"\n",
            "\n",
            "},\n",
            "{\n",
            "\"title\": \"<b>신종 코로나</b> 바이러스 예방 비타민C\",\n",
            "\"link\": \"https:\\/\\/blog.naver.com\\/nasin2004?Redirect=Log&logNo=221832904383\",\n",
            "\"description\": \"<b>신종 코로나</b> 바이러스 예방 비타민C 유튜브를 보다 보니 <b>신종 코로나</b> 바이러스 예방과 치료에 있어서 비타민C, D, 홍삼 등이 면역력에 좋다고 하는 글이 보이네요. 그중에 비타민C의... \",\n",
            "\"bloggername\": \"미디어블루\",\n",
            "\"bloggerlink\": \"https://blog.naver.com/nasin2004\",\n",
            "\"postdate\": \"20200302\"\n",
            "\n",
            "},\n",
            "{\n",
            "\"title\": \"<b>신종 코로나</b>바이러스로 인해 필리핀에 한국인 입국을 금지 또는... \",\n",
            "\"link\": \"https:\\/\\/blog.naver.com\\/ollehrentcar?Redirect=Log&logNo=221833103128\",\n",
            "\"description\": \"현재 <b>신종 코로나</b>바이러스가 세계를 강타한 가운데.. 울나라는 정말 많은 <b>신종 코로나</b>바이러스 환자가 나온 상태입니다..ㅠㅠ 이로인해.. 현재 각국에서 한국인 입국을 금지 또는 입국 제한을 하고 있는... \",\n",
            "\"bloggername\": \"세부올레렌트카 (카톡ID:ollehrentcar)\",\n",
            "\"bloggerlink\": \"https://blog.naver.com/ollehrentcar\",\n",
            "\"postdate\": \"20200302\"\n",
            "\n",
            "},\n",
            "{\n",
            "\"title\": \"<b>신종코로나</b>19 예방수칙과 대응법에는 어떤 것이 있을까?\",\n",
            "\"link\": \"https:\\/\\/blog.naver.com\\/kangss0?Redirect=Log&logNo=221815427502\",\n",
            "\"description\": \"세계보건기구(WHO)에서 코로나 공식 명칭을 코로나19(COVID-19)로 지정했습니다. 최초에 중국 우한에서 발생하여 <b>신종 코로나</b> 바이러스라는 이름으로 불렸었는데요. 다시금 잠잠해지나 싶었지만 하루가 다르게... \",\n",
            "\"bloggername\": \"맛있고 건강한 물 '한우물 미네랄정수기'\",\n",
            "\"bloggerlink\": \"https://blog.naver.com/kangss0\",\n",
            "\"postdate\": \"20200219\"\n",
            "\n",
            "},\n",
            "{\n",
            "\"title\": \"<b>신종 코로나</b> 바이러스 구별 방법과 예방에 대한 전문가 의견\",\n",
            "\"link\": \"https:\\/\\/blog.naver.com\\/seenewskr?Redirect=Log&logNo=221832044648\",\n",
            "\"description\": \"지금 세계는 <b>신종 코로나</b> 바이러스로 모든 것이 마비 상태로 진입하고 있다, 특히 친척간이나 이웃... 감기와 <b>신종 코로나</b> 바이러스의 초기 증상이 어떻게 다른지 전문가에게 질문을 했다, 그 이유는 최소한... \",\n",
            "\"bloggername\": \"이상조, Lee sangjo 의 \\\"세계를 마당 삼아\\\"\",\n",
            "\"bloggerlink\": \"https://blog.naver.com/seenewskr\",\n",
            "\"postdate\": \"20200301\"\n",
            "\n",
            "},\n",
            "{\n",
            "\"title\": \"<b>신종 코로나</b> 바이러스 19를 대처하는 중국정부, 본질을 흐리고... \",\n",
            "\"link\": \"https:\\/\\/blog.naver.com\\/ynk5789?Redirect=Log&logNo=221826355626\",\n",
            "\"description\": \"<b>신종 코로나</b>가 어디에서 발생을 했는가 ? 중국은 자신들이 퍼트린 코로나 바이러스 사태에 대해 전혀 부끄러워하지도 책임감도 없어 보인다. 전 세계가 코로나 바이러스때문에 몸살을 앓고 있다. 그렇지만... \",\n",
            "\"bloggername\": \"골 때리는 중국, 못말리는 중국인\",\n",
            "\"bloggerlink\": \"https://blog.naver.com/ynk5789\",\n",
            "\"postdate\": \"20200226\"\n",
            "\n",
            "},\n",
            "{\n",
            "\"title\": \"<b>신종</b>플루와 <b>코로나</b> 19, 계절성 독감의 차이\",\n",
            "\"link\": \"https:\\/\\/blog.naver.com\\/chn0514?Redirect=Log&logNo=221831394628\",\n",
            "\"description\": \"<b>코로나</b>19와 <b>신종</b>플루 차이 <b>코로나</b>19와 2009년 유행한 <b>신종</b>플루는 확산 초기부터 환자 수에 차이가 닙니다. <b>코로나</b>19는 첫 환자 발생 뒤 한 달 만에 확진자 수가 100명을 넘었지만 같은 기간 <b>신종</b>플루 환자 수는... \",\n",
            "\"bloggername\": \"GOGO~\",\n",
            "\"bloggerlink\": \"https://blog.naver.com/chn0514\",\n",
            "\"postdate\": \"20200301\"\n",
            "\n",
            "}\n",
            "]\n",
            "}\n",
            "\n"
          ]
        }
      ],
      "source": [
        "# 네이버 검색 API예제는 블로그를 비롯 전문자료까지 호출방법이 동일하므로 blog검색만 대표로 예제를 올렸습니다.\n",
        "# 네이버 검색 Open API 예제 - 블로그 검색\n",
        "import os\n",
        "import sys\n",
        "import urllib.request\n",
        "\n",
        "client_id = \"frBMA0JHYp1zATqntdUJ\"\n",
        "client_secret = \"CzMu_Uce6r\"\n",
        "\n",
        "encText = urllib.parse.quote(\"신종코로나\")\n",
        "\n",
        "url = \"https://openapi.naver.com/v1/search/blog?query=\" + encText # json 결과\n",
        "#url = \"https://openapi.naver.com/v1/search/news?query=\" + encText # json 결과\n",
        "\n",
        "request = urllib.request.Request(url)\n",
        "request.add_header(\"X-Naver-Client-Id\",client_id)\n",
        "request.add_header(\"X-Naver-Client-Secret\",client_secret)\n",
        "\n",
        "response = urllib.request.urlopen(request)\n",
        "rescode = response.getcode()\n",
        "if(rescode==200):\n",
        "    response_body = response.read()\n",
        "    print(response_body.decode('utf-8'))\n",
        "else:\n",
        "    print(\"Error Code:\" + rescode)"
      ]
    },
    {
      "cell_type": "markdown",
      "metadata": {
        "id": "MiEGn0aO6VKl"
      },
      "source": [
        "### requests 라이브러리 이용하기"
      ]
    },
    {
      "cell_type": "code",
      "execution_count": null,
      "metadata": {
        "colab": {
          "base_uri": "https://localhost:8080/",
          "height": 56
        },
        "id": "iz6fnl8d6WnS",
        "outputId": "20589997-925f-4757-d711-b7720ed2eb69"
      },
      "outputs": [
        {
          "name": "stdout",
          "output_type": "stream",
          "text": [
            "{'lastBuildDate': 'Mon, 02 Mar 2020 10:47:22 +0900', 'total': 425916, 'start': 1, 'display': 10, 'items': [{'title': '엄마 반성문 (ft. <b>신종코로나</b> 때문이야.)', 'link': 'https://blog.naver.com/simplebean33?Redirect=Log&logNo=221832502301', 'description': '<b>신종코로나</b>로 인해 일상이... 하루 종일 삼식이들 밥 해먹이다 보니, 주방에서만 사는 것 같다. 밥하고 설거지하고, 밥하고 설거지하고... 삼식이 ; <b>신종코로나</b> 일상 요즘 즈이집... #<b>신종코로나</b> 때문에 온가족이... ', 'bloggername': 'Here&Now', 'bloggerlink': 'https://blog.naver.com/simplebean33', 'postdate': '20200302'}, {'title': '<b>신종코로나</b> 이탈리아 현지소식 2', 'link': 'https://blog.naver.com/zzan2580?Redirect=Log&logNo=221832617836', 'description': '이탈리아에서 <b>신종코로나</b>에 감염된 우리나라 국민이 나왔습니다. 가수 청하의... 현재 이탈리아 코로나 현황은 아래 사이트가 정확해요 http://www.salute.gov.it/portale... ', 'bloggername': '길치양의 게으른 여행일지', 'bloggerlink': 'https://blog.naver.com/zzan2580', 'postdate': '20200301'}, {'title': '‘<b>신종 코로나</b> 공포’ 해외 전문가 긴급 진단', 'link': 'https://blog.naver.com/thyoon55?Redirect=Log&logNo=221832753964', 'description': '해외 이코노미스트 긴급 진단“<b>신종 코로나</b>는 ‘경제 팬데믹’…골든타임 놓치면 글로벌 경기 둔화로 전이” “<b>신종 코로나</b> 바이러스 감염증(이하 <b>신종 코로나</b>)에 비하면 사스는 최고의 시나리오였다.”... ', 'bloggername': '주식과 부동산', 'bloggerlink': 'https://blog.naver.com/thyoon55', 'postdate': '20200302'}, {'title': '<b>신종 코로나</b>바이러스와 떨어진 숲세권 이천전원주택매매', 'link': 'https://blog.naver.com/sha_adm?Redirect=Log&logNo=221830366462', 'description': '<b>신종 코로나</b>바이러스와 떨어진 숲세권 이천전원주택매매 요즘 계속 이슈가 되고 있는 화재거리는 아무래도 <b>신종 코로나</b>바이러스겠죠? 하루하루가 기하급수적으로 늘어나고 있는 현재 오늘은 확진자가... ', 'bloggername': '블루오션', 'bloggerlink': 'https://blog.naver.com/sha_adm', 'postdate': '20200229'}, {'title': '<b>신종 코로나</b> 바이러스 예방 비타민C', 'link': 'https://blog.naver.com/nasin2004?Redirect=Log&logNo=221832904383', 'description': '<b>신종 코로나</b> 바이러스 예방 비타민C 유튜브를 보다 보니 <b>신종 코로나</b> 바이러스 예방과 치료에 있어서 비타민C, D, 홍삼 등이 면역력에 좋다고 하는 글이 보이네요. 그중에 비타민C의... ', 'bloggername': '미디어블루', 'bloggerlink': 'https://blog.naver.com/nasin2004', 'postdate': '20200302'}, {'title': '<b>신종 코로나</b>바이러스로 인해 필리핀에 한국인 입국을 금지 또는... ', 'link': 'https://blog.naver.com/ollehrentcar?Redirect=Log&logNo=221833103128', 'description': '현재 <b>신종 코로나</b>바이러스가 세계를 강타한 가운데.. 울나라는 정말 많은 <b>신종 코로나</b>바이러스 환자가 나온 상태입니다..ㅠㅠ 이로인해.. 현재 각국에서 한국인 입국을 금지 또는 입국 제한을 하고 있는... ', 'bloggername': '세부올레렌트카 (카톡ID:ollehrentcar)', 'bloggerlink': 'https://blog.naver.com/ollehrentcar', 'postdate': '20200302'}, {'title': '<b>신종 코로나</b> 바이러스 19를 대처하는 중국정부, 본질을 흐리고... ', 'link': 'https://blog.naver.com/ynk5789?Redirect=Log&logNo=221826355626', 'description': '<b>신종 코로나</b>가 어디에서 발생을 했는가 ? 중국은 자신들이 퍼트린 코로나 바이러스 사태에 대해 전혀 부끄러워하지도 책임감도 없어 보인다. 전 세계가 코로나 바이러스때문에 몸살을 앓고 있다. 그렇지만... ', 'bloggername': '골 때리는 중국, 못말리는 중국인', 'bloggerlink': 'https://blog.naver.com/ynk5789', 'postdate': '20200226'}, {'title': '<b>신종 코로나</b> 바이러스 구별 방법과 예방에 대한 전문가 의견', 'link': 'https://blog.naver.com/seenewskr?Redirect=Log&logNo=221832044648', 'description': '지금 세계는 <b>신종 코로나</b> 바이러스로 모든 것이 마비 상태로 진입하고 있다, 특히 친척간이나 이웃... 감기와 <b>신종 코로나</b> 바이러스의 초기 증상이 어떻게 다른지 전문가에게 질문을 했다, 그 이유는 최소한... ', 'bloggername': '이상조, Lee sangjo 의 \"세계를 마당 삼아\"', 'bloggerlink': 'https://blog.naver.com/seenewskr', 'postdate': '20200301'}, {'title': '<b>신종코로나</b>19 예방수칙과 대응법에는 어떤 것이 있을까?', 'link': 'https://blog.naver.com/kangss0?Redirect=Log&logNo=221815427502', 'description': '세계보건기구(WHO)에서 코로나 공식 명칭을 코로나19(COVID-19)로 지정했습니다. 최초에 중국 우한에서 발생하여 <b>신종 코로나</b> 바이러스라는 이름으로 불렸었는데요. 다시금 잠잠해지나 싶었지만 하루가 다르게... ', 'bloggername': \"맛있고 건강한 물 '한우물 미네랄정수기'\", 'bloggerlink': 'https://blog.naver.com/kangss0', 'postdate': '20200219'}, {'title': 'The Lancet에 소개된 <b>신종코로나</b> 관련 논문입니다', 'link': 'https://blog.naver.com/dyner?Redirect=Log&logNo=221824910774', 'description': '요즘 <b>신종 코로나</b>바이러스가 생각보다 많이 퍼지면서 걱정거리가 많아진 시기입니다. 언젠가는... ** 코로나 바이러스가 림프구 파괴를 촉진하는데, 이 정도가 심한 경우 위중할 확률도 높아질... ', 'bloggername': '장하림한의원', 'bloggerlink': 'https://blog.naver.com/dyner', 'postdate': '20200226'}]}\n"
          ]
        }
      ],
      "source": [
        "import requests\n",
        "from urllib.parse import urlparse\n",
        "\n",
        "keyword=\"신종코로나\"\n",
        "url = \"https://openapi.naver.com/v1/search/blog?query=\" + keyword\n",
        "result = requests.get(urlparse(url).geturl(),\n",
        "                     headers = {\"X-Naver-Client-Id\":\"frBMA0JHYp1zATqntdUJ\",\n",
        "                               \"X-Naver-Client-Secret\":\"CzMu_Uce6r\"})\n",
        "\n",
        "print(result.json())"
      ]
    },
    {
      "cell_type": "markdown",
      "metadata": {
        "id": "mispoKJs7aTF"
      },
      "source": [
        "### 온라인 json 뷰어 이용하기 : http://jsonviewer.stack.hu/"
      ]
    },
    {
      "cell_type": "code",
      "execution_count": null,
      "metadata": {
        "colab": {
          "base_uri": "https://localhost:8080/",
          "height": 91
        },
        "id": "UMBENDwk7cZp",
        "outputId": "c31a7ae8-4970-4367-df8d-bfb889215cb8"
      },
      "outputs": [
        {
          "name": "stdout",
          "output_type": "stream",
          "text": [
            "Mon, 02 Mar 2020 10:53:51 +0900\n",
            "425914\n",
            "1\n",
            "10\n"
          ]
        }
      ],
      "source": [
        "import requests\n",
        "from urllib.parse import urlparse\n",
        "\n",
        "keyword=\"신종코로나\"\n",
        "url = \"https://openapi.naver.com/v1/search/blog?query=\" + keyword\n",
        "result = requests.get(urlparse(url).geturl(),\n",
        "                     headers = {\"X-Naver-Client-Id\":\"frBMA0JHYp1zATqntdUJ\",\n",
        "                               \"X-Naver-Client-Secret\":\"CzMu_Uce6r\"})\n",
        "\n",
        "json_obj = result.json()\n",
        "print(json_obj['lastBuildDate'])\n",
        "print(json_obj['total'])\n",
        "print(json_obj['start'])\n",
        "print(json_obj['display'])"
      ]
    },
    {
      "cell_type": "code",
      "execution_count": null,
      "metadata": {
        "colab": {
          "base_uri": "https://localhost:8080/",
          "height": 56
        },
        "id": "0UvExX8y7ccw",
        "outputId": "31a688f2-9117-4a0f-8688-2b1c979b817d"
      },
      "outputs": [
        {
          "name": "stdout",
          "output_type": "stream",
          "text": [
            "[{'title': '엄마 반성문 (ft. <b>신종코로나</b> 때문이야.)', 'link': 'https://blog.naver.com/simplebean33?Redirect=Log&logNo=221832502301', 'description': '<b>신종코로나</b>로 인해 일상이... 하루 종일 삼식이들 밥 해먹이다 보니, 주방에서만 사는 것 같다. 밥하고 설거지하고, 밥하고 설거지하고... 삼식이 ; <b>신종코로나</b> 일상 요즘 즈이집... #<b>신종코로나</b> 때문에 온가족이... ', 'bloggername': 'Here&Now', 'bloggerlink': 'https://blog.naver.com/simplebean33', 'postdate': '20200302'}, {'title': '<b>신종코로나</b> 이탈리아 현지소식 2', 'link': 'https://blog.naver.com/zzan2580?Redirect=Log&logNo=221832617836', 'description': '이탈리아에서 <b>신종코로나</b>에 감염된 우리나라 국민이 나왔습니다. 가수 청하의... 현재 이탈리아 코로나 현황은 아래 사이트가 정확해요 http://www.salute.gov.it/portale... ', 'bloggername': '길치양의 게으른 여행일지', 'bloggerlink': 'https://blog.naver.com/zzan2580', 'postdate': '20200301'}, {'title': '‘<b>신종 코로나</b> 공포’ 해외 전문가 긴급 진단', 'link': 'https://blog.naver.com/thyoon55?Redirect=Log&logNo=221832753964', 'description': '해외 이코노미스트 긴급 진단“<b>신종 코로나</b>는 ‘경제 팬데믹’…골든타임 놓치면 글로벌 경기 둔화로 전이” “<b>신종 코로나</b> 바이러스 감염증(이하 <b>신종 코로나</b>)에 비하면 사스는 최고의 시나리오였다.”... ', 'bloggername': '주식과 부동산', 'bloggerlink': 'https://blog.naver.com/thyoon55', 'postdate': '20200302'}, {'title': '<b>신종 코로나</b>바이러스와 떨어진 숲세권 이천전원주택매매', 'link': 'https://blog.naver.com/sha_adm?Redirect=Log&logNo=221830366462', 'description': '<b>신종 코로나</b>바이러스와 떨어진 숲세권 이천전원주택매매 요즘 계속 이슈가 되고 있는 화재거리는 아무래도 <b>신종 코로나</b>바이러스겠죠? 하루하루가 기하급수적으로 늘어나고 있는 현재 오늘은 확진자가... ', 'bloggername': '블루오션', 'bloggerlink': 'https://blog.naver.com/sha_adm', 'postdate': '20200229'}, {'title': '<b>신종 코로나</b> 바이러스 예방 비타민C', 'link': 'https://blog.naver.com/nasin2004?Redirect=Log&logNo=221832904383', 'description': '<b>신종 코로나</b> 바이러스 예방 비타민C 유튜브를 보다 보니 <b>신종 코로나</b> 바이러스 예방과 치료에 있어서 비타민C, D, 홍삼 등이 면역력에 좋다고 하는 글이 보이네요. 그중에 비타민C의... ', 'bloggername': '미디어블루', 'bloggerlink': 'https://blog.naver.com/nasin2004', 'postdate': '20200302'}, {'title': '<b>신종 코로나</b>바이러스로 인해 필리핀에 한국인 입국을 금지 또는... ', 'link': 'https://blog.naver.com/ollehrentcar?Redirect=Log&logNo=221833103128', 'description': '현재 <b>신종 코로나</b>바이러스가 세계를 강타한 가운데.. 울나라는 정말 많은 <b>신종 코로나</b>바이러스 환자가 나온 상태입니다..ㅠㅠ 이로인해.. 현재 각국에서 한국인 입국을 금지 또는 입국 제한을 하고 있는... ', 'bloggername': '세부올레렌트카 (카톡ID:ollehrentcar)', 'bloggerlink': 'https://blog.naver.com/ollehrentcar', 'postdate': '20200302'}, {'title': '<b>신종 코로나</b> 바이러스 19를 대처하는 중국정부, 본질을 흐리고... ', 'link': 'https://blog.naver.com/ynk5789?Redirect=Log&logNo=221826355626', 'description': '<b>신종 코로나</b>가 어디에서 발생을 했는가 ? 중국은 자신들이 퍼트린 코로나 바이러스 사태에 대해 전혀 부끄러워하지도 책임감도 없어 보인다. 전 세계가 코로나 바이러스때문에 몸살을 앓고 있다. 그렇지만... ', 'bloggername': '골 때리는 중국, 못말리는 중국인', 'bloggerlink': 'https://blog.naver.com/ynk5789', 'postdate': '20200226'}, {'title': '<b>신종 코로나</b> 바이러스 구별 방법과 예방에 대한 전문가 의견', 'link': 'https://blog.naver.com/seenewskr?Redirect=Log&logNo=221832044648', 'description': '지금 세계는 <b>신종 코로나</b> 바이러스로 모든 것이 마비 상태로 진입하고 있다, 특히 친척간이나 이웃... 감기와 <b>신종 코로나</b> 바이러스의 초기 증상이 어떻게 다른지 전문가에게 질문을 했다, 그 이유는 최소한... ', 'bloggername': '이상조, Lee sangjo 의 \"세계를 마당 삼아\"', 'bloggerlink': 'https://blog.naver.com/seenewskr', 'postdate': '20200301'}, {'title': '<b>신종코로나</b>19 예방수칙과 대응법에는 어떤 것이 있을까?', 'link': 'https://blog.naver.com/kangss0?Redirect=Log&logNo=221815427502', 'description': '세계보건기구(WHO)에서 코로나 공식 명칭을 코로나19(COVID-19)로 지정했습니다. 최초에 중국 우한에서 발생하여 <b>신종 코로나</b> 바이러스라는 이름으로 불렸었는데요. 다시금 잠잠해지나 싶었지만 하루가 다르게... ', 'bloggername': \"맛있고 건강한 물 '한우물 미네랄정수기'\", 'bloggerlink': 'https://blog.naver.com/kangss0', 'postdate': '20200219'}, {'title': 'The Lancet에 소개된 <b>신종코로나</b> 관련 논문입니다', 'link': 'https://blog.naver.com/dyner?Redirect=Log&logNo=221824910774', 'description': '요즘 <b>신종 코로나</b>바이러스가 생각보다 많이 퍼지면서 걱정거리가 많아진 시기입니다. 언젠가는... ** 코로나 바이러스가 림프구 파괴를 촉진하는데, 이 정도가 심한 경우 위중할 확률도 높아질... ', 'bloggername': '장하림한의원', 'bloggerlink': 'https://blog.naver.com/dyner', 'postdate': '20200226'}]\n"
          ]
        }
      ],
      "source": [
        "import requests\n",
        "from urllib.parse import urlparse\n",
        "\n",
        "keyword=\"신종코로나\"\n",
        "url = \"https://openapi.naver.com/v1/search/blog?query=\" + keyword\n",
        "result = requests.get(urlparse(url).geturl(),\n",
        "                     headers = {\"X-Naver-Client-Id\":\"frBMA0JHYp1zATqntdUJ\",\n",
        "                               \"X-Naver-Client-Secret\":\"CzMu_Uce6r\"})\n",
        "\n",
        "json_obj = result.json()\n",
        "print(json_obj['items'])"
      ]
    },
    {
      "cell_type": "markdown",
      "metadata": {
        "id": "j4jvaByHASKL"
      },
      "source": [
        "### 반복문으로 결과 출력하기"
      ]
    },
    {
      "cell_type": "code",
      "execution_count": null,
      "metadata": {
        "colab": {
          "base_uri": "https://localhost:8080/",
          "height": 223
        },
        "id": "QdDuzk_09ejn",
        "outputId": "05a1933d-64d3-4bb6-b884-afcb3ef21cc2"
      },
      "outputs": [
        {
          "name": "stdout",
          "output_type": "stream",
          "text": [
            "{'title': '엄마 반성문 (ft. <b>신종코로나</b> 때문이야.)', 'link': 'https://blog.naver.com/simplebean33?Redirect=Log&logNo=221832502301', 'description': '<b>신종코로나</b>로 인해 일상이... 하루 종일 삼식이들 밥 해먹이다 보니, 주방에서만 사는 것 같다. 밥하고 설거지하고, 밥하고 설거지하고... 삼식이 ; <b>신종코로나</b> 일상 요즘 즈이집... #<b>신종코로나</b> 때문에 온가족이... ', 'bloggername': 'Here&Now', 'bloggerlink': 'https://blog.naver.com/simplebean33', 'postdate': '20200302'}\n",
            "{'title': '<b>신종코로나</b> 이탈리아 현지소식 2', 'link': 'https://blog.naver.com/zzan2580?Redirect=Log&logNo=221832617836', 'description': '이탈리아에서 <b>신종코로나</b>에 감염된 우리나라 국민이 나왔습니다. 가수 청하의... 현재 이탈리아 코로나 현황은 아래 사이트가 정확해요 http://www.salute.gov.it/portale... ', 'bloggername': '길치양의 게으른 여행일지', 'bloggerlink': 'https://blog.naver.com/zzan2580', 'postdate': '20200301'}\n",
            "{'title': '‘<b>신종 코로나</b> 공포’ 해외 전문가 긴급 진단', 'link': 'https://blog.naver.com/thyoon55?Redirect=Log&logNo=221832753964', 'description': '해외 이코노미스트 긴급 진단“<b>신종 코로나</b>는 ‘경제 팬데믹’…골든타임 놓치면 글로벌 경기 둔화로 전이” “<b>신종 코로나</b> 바이러스 감염증(이하 <b>신종 코로나</b>)에 비하면 사스는 최고의 시나리오였다.”... ', 'bloggername': '주식과 부동산', 'bloggerlink': 'https://blog.naver.com/thyoon55', 'postdate': '20200302'}\n",
            "{'title': '<b>신종 코로나</b>바이러스와 떨어진 숲세권 이천전원주택매매', 'link': 'https://blog.naver.com/sha_adm?Redirect=Log&logNo=221830366462', 'description': '<b>신종 코로나</b>바이러스와 떨어진 숲세권 이천전원주택매매 요즘 계속 이슈가 되고 있는 화재거리는 아무래도 <b>신종 코로나</b>바이러스겠죠? 하루하루가 기하급수적으로 늘어나고 있는 현재 오늘은 확진자가... ', 'bloggername': '블루오션', 'bloggerlink': 'https://blog.naver.com/sha_adm', 'postdate': '20200229'}\n",
            "{'title': '<b>신종 코로나</b> 바이러스 예방 비타민C', 'link': 'https://blog.naver.com/nasin2004?Redirect=Log&logNo=221832904383', 'description': '<b>신종 코로나</b> 바이러스 예방 비타민C 유튜브를 보다 보니 <b>신종 코로나</b> 바이러스 예방과 치료에 있어서 비타민C, D, 홍삼 등이 면역력에 좋다고 하는 글이 보이네요. 그중에 비타민C의... ', 'bloggername': '미디어블루', 'bloggerlink': 'https://blog.naver.com/nasin2004', 'postdate': '20200302'}\n",
            "{'title': '<b>신종 코로나</b>바이러스로 인해 필리핀에 한국인 입국을 금지 또는... ', 'link': 'https://blog.naver.com/ollehrentcar?Redirect=Log&logNo=221833103128', 'description': '현재 <b>신종 코로나</b>바이러스가 세계를 강타한 가운데.. 울나라는 정말 많은 <b>신종 코로나</b>바이러스 환자가 나온 상태입니다..ㅠㅠ 이로인해.. 현재 각국에서 한국인 입국을 금지 또는 입국 제한을 하고 있는... ', 'bloggername': '세부올레렌트카 (카톡ID:ollehrentcar)', 'bloggerlink': 'https://blog.naver.com/ollehrentcar', 'postdate': '20200302'}\n",
            "{'title': '<b>신종 코로나</b> 바이러스 19를 대처하는 중국정부, 본질을 흐리고... ', 'link': 'https://blog.naver.com/ynk5789?Redirect=Log&logNo=221826355626', 'description': '<b>신종 코로나</b>가 어디에서 발생을 했는가 ? 중국은 자신들이 퍼트린 코로나 바이러스 사태에 대해 전혀 부끄러워하지도 책임감도 없어 보인다. 전 세계가 코로나 바이러스때문에 몸살을 앓고 있다. 그렇지만... ', 'bloggername': '골 때리는 중국, 못말리는 중국인', 'bloggerlink': 'https://blog.naver.com/ynk5789', 'postdate': '20200226'}\n",
            "{'title': '<b>신종 코로나</b> 바이러스 구별 방법과 예방에 대한 전문가 의견', 'link': 'https://blog.naver.com/seenewskr?Redirect=Log&logNo=221832044648', 'description': '지금 세계는 <b>신종 코로나</b> 바이러스로 모든 것이 마비 상태로 진입하고 있다, 특히 친척간이나 이웃... 감기와 <b>신종 코로나</b> 바이러스의 초기 증상이 어떻게 다른지 전문가에게 질문을 했다, 그 이유는 최소한... ', 'bloggername': '이상조, Lee sangjo 의 \"세계를 마당 삼아\"', 'bloggerlink': 'https://blog.naver.com/seenewskr', 'postdate': '20200301'}\n",
            "{'title': '<b>신종코로나</b>19 예방수칙과 대응법에는 어떤 것이 있을까?', 'link': 'https://blog.naver.com/kangss0?Redirect=Log&logNo=221815427502', 'description': '세계보건기구(WHO)에서 코로나 공식 명칭을 코로나19(COVID-19)로 지정했습니다. 최초에 중국 우한에서 발생하여 <b>신종 코로나</b> 바이러스라는 이름으로 불렸었는데요. 다시금 잠잠해지나 싶었지만 하루가 다르게... ', 'bloggername': \"맛있고 건강한 물 '한우물 미네랄정수기'\", 'bloggerlink': 'https://blog.naver.com/kangss0', 'postdate': '20200219'}\n",
            "{'title': 'The Lancet에 소개된 <b>신종코로나</b> 관련 논문입니다', 'link': 'https://blog.naver.com/dyner?Redirect=Log&logNo=221824910774', 'description': '요즘 <b>신종 코로나</b>바이러스가 생각보다 많이 퍼지면서 걱정거리가 많아진 시기입니다. 언젠가는... ** 코로나 바이러스가 림프구 파괴를 촉진하는데, 이 정도가 심한 경우 위중할 확률도 높아질... ', 'bloggername': '장하림한의원', 'bloggerlink': 'https://blog.naver.com/dyner', 'postdate': '20200226'}\n"
          ]
        }
      ],
      "source": [
        "import requests\n",
        "from urllib.parse import urlparse\n",
        "\n",
        "keyword=\"신종코로나\"\n",
        "url = \"https://openapi.naver.com/v1/search/blog?query=\" + keyword\n",
        "result = requests.get(urlparse(url).geturl(),\n",
        "                     headers = {\"X-Naver-Client-Id\":\"frBMA0JHYp1zATqntdUJ\",\n",
        "                               \"X-Naver-Client-Secret\":\"CzMu_Uce6r\"})\n",
        "\n",
        "json_obj = result.json()\n",
        "\n",
        "for item in json_obj['items']:\n",
        "  print(item)"
      ]
    },
    {
      "cell_type": "markdown",
      "metadata": {
        "id": "YE4ce87q_0rU"
      },
      "source": [
        "### 특정 속성값만 뽑아내기"
      ]
    },
    {
      "cell_type": "code",
      "execution_count": null,
      "metadata": {
        "colab": {
          "base_uri": "https://localhost:8080/",
          "height": 203
        },
        "id": "071W-jXGAOeg",
        "outputId": "84a551ee-8898-4867-8735-1886e8047f10"
      },
      "outputs": [
        {
          "name": "stdout",
          "output_type": "stream",
          "text": [
            "엄마 반성문 (ft. <b>신종코로나</b> 때문이야.)\n",
            "<b>신종코로나</b> 이탈리아 현지소식 2\n",
            "‘<b>신종 코로나</b> 공포’ 해외 전문가 긴급 진단\n",
            "<b>신종 코로나</b>바이러스와 떨어진 숲세권 이천전원주택매매\n",
            "<b>신종 코로나</b>바이러스로 인해 필리핀에 한국인 입국을 금지 또는... \n",
            "<b>신종 코로나</b> 바이러스 19를 대처하는 중국정부, 본질을 흐리고... \n",
            "<b>신종 코로나</b> 바이러스 구별 방법과 예방에 대한 전문가 의견\n",
            "<b>신종 코로나</b> 바이러스 예방 비타민C\n",
            "<b>신종코로나</b>19 예방수칙과 대응법에는 어떤 것이 있을까?\n",
            "The Lancet에 소개된 <b>신종코로나</b> 관련 논문입니다\n"
          ]
        }
      ],
      "source": [
        "import requests\n",
        "from urllib.parse import urlparse\n",
        "\n",
        "keyword=\"신종코로나\"\n",
        "url = \"https://openapi.naver.com/v1/search/blog?query=\" + keyword\n",
        "result = requests.get(urlparse(url).geturl(),\n",
        "                     headers = {\"X-Naver-Client-Id\":\"frBMA0JHYp1zATqntdUJ\",\n",
        "                               \"X-Naver-Client-Secret\":\"CzMu_Uce6r\"})\n",
        "\n",
        "json_obj = result.json()\n",
        "\n",
        "for item in json_obj['items']:\n",
        "  print(item['title'])"
      ]
    },
    {
      "cell_type": "markdown",
      "metadata": {
        "id": "Dej9FGhmA6Ng"
      },
      "source": [
        "### b, /b 없애기"
      ]
    },
    {
      "cell_type": "code",
      "execution_count": null,
      "metadata": {
        "colab": {
          "base_uri": "https://localhost:8080/",
          "height": 203
        },
        "id": "t5wqdI7YAPBk",
        "outputId": "179adcca-43b4-47bf-db97-0e6b28996e65"
      },
      "outputs": [
        {
          "name": "stdout",
          "output_type": "stream",
          "text": [
            "엄마 반성문 (ft. 신종코로나 때문이야.)\n",
            "신종코로나 이탈리아 현지소식 2\n",
            "‘신종 코로나 공포’ 해외 전문가 긴급 진단\n",
            "신종 코로나바이러스와 떨어진 숲세권 이천전원주택매매\n",
            "신종 코로나바이러스로 인해 필리핀에 한국인 입국을 금지 또는... \n",
            "신종 코로나 바이러스 19를 대처하는 중국정부, 본질을 흐리고... \n",
            "신종 코로나 바이러스 구별 방법과 예방에 대한 전문가 의견\n",
            "신종 코로나 바이러스 예방 비타민C\n",
            "신종코로나19 예방수칙과 대응법에는 어떤 것이 있을까?\n",
            "The Lancet에 소개된 신종코로나 관련 논문입니다\n"
          ]
        }
      ],
      "source": [
        "import requests\n",
        "from urllib.parse import urlparse\n",
        "\n",
        "keyword=\"신종코로나\"\n",
        "url = \"https://openapi.naver.com/v1/search/blog?query=\" + keyword\n",
        "result = requests.get(urlparse(url).geturl(),\n",
        "                     headers = {\"X-Naver-Client-Id\":\"frBMA0JHYp1zATqntdUJ\",\n",
        "                               \"X-Naver-Client-Secret\":\"CzMu_Uce6r\"})\n",
        "\n",
        "json_obj = result.json()\n",
        "\n",
        "for item in json_obj['items']:\n",
        "  print(item['title'].replace(\"<b>\", \"\").replace(\"</b>\", \"\"))"
      ]
    },
    {
      "cell_type": "markdown",
      "metadata": {
        "id": "7bUuzXtABSCZ"
      },
      "source": [
        "### title, link 출력"
      ]
    },
    {
      "cell_type": "code",
      "execution_count": null,
      "metadata": {
        "colab": {
          "base_uri": "https://localhost:8080/",
          "height": 203
        },
        "id": "6f9FS6pGBXvV",
        "outputId": "2adb469c-23c4-42ea-bf03-a44d7eaa77e5"
      },
      "outputs": [
        {
          "name": "stdout",
          "output_type": "stream",
          "text": [
            "엄마 반성문 (ft. 신종코로나 때문이야.) https://blog.naver.com/simplebean33?Redirect=Log&logNo=221832502301\n",
            "신종코로나 이탈리아 현지소식 2 https://blog.naver.com/zzan2580?Redirect=Log&logNo=221832617836\n",
            "‘신종 코로나 공포’ 해외 전문가 긴급 진단 https://blog.naver.com/thyoon55?Redirect=Log&logNo=221832753964\n",
            "신종 코로나바이러스와 떨어진 숲세권 이천전원주택매매 https://blog.naver.com/sha_adm?Redirect=Log&logNo=221830366462\n",
            "신종 코로나바이러스로 인해 필리핀에 한국인 입국을 금지 또는...  https://blog.naver.com/ollehrentcar?Redirect=Log&logNo=221833103128\n",
            "신종 코로나 바이러스 19를 대처하는 중국정부, 본질을 흐리고...  https://blog.naver.com/ynk5789?Redirect=Log&logNo=221826355626\n",
            "신종 코로나 바이러스 구별 방법과 예방에 대한 전문가 의견 https://blog.naver.com/seenewskr?Redirect=Log&logNo=221832044648\n",
            "신종 코로나 바이러스 예방 비타민C https://blog.naver.com/nasin2004?Redirect=Log&logNo=221832904383\n",
            "신종코로나19 예방수칙과 대응법에는 어떤 것이 있을까? https://blog.naver.com/kangss0?Redirect=Log&logNo=221815427502\n",
            "The Lancet에 소개된 신종코로나 관련 논문입니다 https://blog.naver.com/dyner?Redirect=Log&logNo=221824910774\n"
          ]
        }
      ],
      "source": [
        "import requests\n",
        "from urllib.parse import urlparse\n",
        "\n",
        "keyword=\"신종코로나\"\n",
        "url = \"https://openapi.naver.com/v1/search/blog?query=\" + keyword\n",
        "result = requests.get(urlparse(url).geturl(),\n",
        "                     headers = {\"X-Naver-Client-Id\":\"frBMA0JHYp1zATqntdUJ\",\n",
        "                               \"X-Naver-Client-Secret\":\"CzMu_Uce6r\"})\n",
        "\n",
        "json_obj = result.json()\n",
        "\n",
        "for item in json_obj['items']:\n",
        "  print(item['title'].replace(\"<b>\", \"\").replace(\"</b>\", \"\"),\n",
        "        item['link'])\n"
      ]
    },
    {
      "cell_type": "markdown",
      "metadata": {
        "id": "LS6NnkQTBsCi"
      },
      "source": [
        "### 여러 페이지 호출하기 : 100개 결과 뽑기"
      ]
    },
    {
      "cell_type": "code",
      "execution_count": null,
      "metadata": {
        "colab": {
          "base_uri": "https://localhost:8080/",
          "height": 1000
        },
        "id": "n2FWqCwjBiDz",
        "outputId": "ec2a6257-b68d-43d9-fa48-03697386f1ef"
      },
      "outputs": [
        {
          "name": "stdout",
          "output_type": "stream",
          "text": [
            "{'title': '엄마 반성문 (ft. <b>신종코로나</b> 때문이야.)', 'link': 'https://blog.naver.com/simplebean33?Redirect=Log&logNo=221832502301', 'description': '<b>신종코로나</b>로 인해 일상이... 하루 종일 삼식이들 밥 해먹이다 보니, 주방에서만 사는 것 같다. 밥하고 설거지하고, 밥하고 설거지하고... 삼식이 ; <b>신종코로나</b> 일상 요즘 즈이집... #<b>신종코로나</b> 때문에 온가족이... ', 'bloggername': 'Here&Now', 'bloggerlink': 'https://blog.naver.com/simplebean33', 'postdate': '20200302'}\n",
            "{'title': '<b>신종코로나</b> 이탈리아 현지소식 2', 'link': 'https://blog.naver.com/zzan2580?Redirect=Log&logNo=221832617836', 'description': '이탈리아에서 <b>신종코로나</b>에 감염된 우리나라 국민이 나왔습니다. 가수 청하의... 현재 이탈리아 코로나 현황은 아래 사이트가 정확해요 http://www.salute.gov.it/portale... ', 'bloggername': '길치양의 게으른 여행일지', 'bloggerlink': 'https://blog.naver.com/zzan2580', 'postdate': '20200301'}\n",
            "{'title': '‘<b>신종 코로나</b> 공포’ 해외 전문가 긴급 진단', 'link': 'https://blog.naver.com/thyoon55?Redirect=Log&logNo=221832753964', 'description': '해외 이코노미스트 긴급 진단“<b>신종 코로나</b>는 ‘경제 팬데믹’…골든타임 놓치면 글로벌 경기 둔화로 전이” “<b>신종 코로나</b> 바이러스 감염증(이하 <b>신종 코로나</b>)에 비하면 사스는 최고의 시나리오였다.”... ', 'bloggername': '주식과 부동산', 'bloggerlink': 'https://blog.naver.com/thyoon55', 'postdate': '20200302'}\n",
            "{'title': '<b>신종 코로나</b>바이러스와 떨어진 숲세권 이천전원주택매매', 'link': 'https://blog.naver.com/sha_adm?Redirect=Log&logNo=221830366462', 'description': '<b>신종 코로나</b>바이러스와 떨어진 숲세권 이천전원주택매매 요즘 계속 이슈가 되고 있는 화재거리는 아무래도 <b>신종 코로나</b>바이러스겠죠? 하루하루가 기하급수적으로 늘어나고 있는 현재 오늘은 확진자가... ', 'bloggername': '블루오션', 'bloggerlink': 'https://blog.naver.com/sha_adm', 'postdate': '20200229'}\n",
            "{'title': '우한폐렴(<b>신종 코로나</b>바이러스)은 메르스와 많이 다릅니다.', 'link': 'https://blog.naver.com/ipudo?Redirect=Log&logNo=221820800156', 'description': '우한폐렴과 메르스는 둘 모두 변종 코로나바이러스가 원인입니다. 그래서 처음 우한폐렴이 출현하고 국내에 유입되었을 때 알려진 것이 거의 없던 <b>신종 코로나</b>바이러스에 대해 의학자은 2002년~2003년 중국과... ', 'bloggername': '노환규 블로그', 'bloggerlink': 'https://blog.naver.com/ipudo', 'postdate': '20200223'}\n",
            "{'title': '<b>신종 코로나</b>바이러스로 인해 필리핀에 한국인 입국을 금지 또는... ', 'link': 'https://blog.naver.com/ollehrentcar?Redirect=Log&logNo=221833103128', 'description': '현재 <b>신종 코로나</b>바이러스가 세계를 강타한 가운데.. 울나라는 정말 많은 <b>신종 코로나</b>바이러스 환자가 나온 상태입니다..ㅠㅠ 이로인해.. 현재 각국에서 한국인 입국을 금지 또는 입국 제한을 하고 있는... ', 'bloggername': '세부올레렌트카 (카톡ID:ollehrentcar)', 'bloggerlink': 'https://blog.naver.com/ollehrentcar', 'postdate': '20200302'}\n",
            "{'title': '<b>신종 코로나</b> 바이러스 19를 대처하는 중국정부, 본질을 흐리고... ', 'link': 'https://blog.naver.com/ynk5789?Redirect=Log&logNo=221826355626', 'description': '<b>신종 코로나</b>가 어디에서 발생을 했는가 ? 중국은 자신들이 퍼트린 코로나 바이러스 사태에 대해 전혀 부끄러워하지도 책임감도 없어 보인다. 전 세계가 코로나 바이러스때문에 몸살을 앓고 있다. 그렇지만... ', 'bloggername': '골 때리는 중국, 못말리는 중국인', 'bloggerlink': 'https://blog.naver.com/ynk5789', 'postdate': '20200226'}\n",
            "{'title': '<b>신종 코로나</b> 바이러스 구별 방법과 예방에 대한 전문가 의견', 'link': 'https://blog.naver.com/seenewskr?Redirect=Log&logNo=221832044648', 'description': '지금 세계는 <b>신종 코로나</b> 바이러스로 모든 것이 마비 상태로 진입하고 있다, 특히 친척간이나 이웃... 감기와 <b>신종 코로나</b> 바이러스의 초기 증상이 어떻게 다른지 전문가에게 질문을 했다, 그 이유는 최소한... ', 'bloggername': '이상조, Lee sangjo 의 \"세계를 마당 삼아\"', 'bloggerlink': 'https://blog.naver.com/seenewskr', 'postdate': '20200301'}\n",
            "{'title': '<b>신종 코로나</b> 바이러스 예방 비타민C', 'link': 'https://blog.naver.com/nasin2004?Redirect=Log&logNo=221832904383', 'description': '<b>신종 코로나</b> 바이러스 예방 비타민C 유튜브를 보다 보니 <b>신종 코로나</b> 바이러스 예방과 치료에 있어서 비타민C, D, 홍삼 등이 면역력에 좋다고 하는 글이 보이네요. 그중에 비타민C의... ', 'bloggername': '미디어블루', 'bloggerlink': 'https://blog.naver.com/nasin2004', 'postdate': '20200302'}\n",
            "{'title': 'The Lancet에 소개된 <b>신종코로나</b> 관련 논문입니다', 'link': 'https://blog.naver.com/dyner?Redirect=Log&logNo=221824910774', 'description': '요즘 <b>신종 코로나</b>바이러스가 생각보다 많이 퍼지면서 걱정거리가 많아진 시기입니다. 언젠가는... ** 코로나 바이러스가 림프구 파괴를 촉진하는데, 이 정도가 심한 경우 위중할 확률도 높아질... ', 'bloggername': '장하림한의원', 'bloggerlink': 'https://blog.naver.com/dyner', 'postdate': '20200226'}\n",
            "{'title': '<b>신종 코로나</b>바이러스감염증-19 심각단계! 예방행동수칙 알아보기', 'link': 'https://blog.naver.com/dreamcampus?Redirect=Log&logNo=221833269864', 'description': '일반국민, 고위험군, 유증상자, 국내 코로나-19 유행지역 거주자 <b>신종 코로나</b>바이러스감염증-19 감염 노출 정도에 따라 예방행동수칙이 다른데요, 함께 알아보도록 하겠습니다. 일반국민 ① 흐르는 물에 손바닥... ', 'bloggername': '한국장학재단 공식블로그', 'bloggerlink': 'https://blog.naver.com/dreamcampus', 'postdate': '20200302'}\n",
            "{'title': '<b>신종코로나</b>19 예방수칙과 대응법에는 어떤 것이 있을까?', 'link': 'https://blog.naver.com/kangss0?Redirect=Log&logNo=221815427502', 'description': '세계보건기구(WHO)에서 코로나 공식 명칭을 코로나19(COVID-19)로 지정했습니다. 최초에 중국 우한에서 발생하여 <b>신종 코로나</b> 바이러스라는 이름으로 불렸었는데요. 다시금 잠잠해지나 싶었지만 하루가 다르게... ', 'bloggername': \"맛있고 건강한 물 '한우물 미네랄정수기'\", 'bloggerlink': 'https://blog.naver.com/kangss0', 'postdate': '20200219'}\n",
            "{'title': '트럼프 대통령의 <b>신종 코로나</b> 바이러스에 대한 대대적인... ', 'link': 'https://blog.naver.com/yimin3181?Redirect=Log&logNo=221828413568', 'description': '대동하고 <b>신종 코로나</b>19에 대하여 대대적인 기자 회견을 하는 장면이다. 이 자리에서 트럼프 대통령은 현재 미국에는 코로나 감염자가 60명이 있는데 어떻게 감염이 되었고, 현재 어떤 상태인가를... ', 'bloggername': '민영일의 건강을 생각하는 블로그', 'bloggerlink': 'https://blog.naver.com/yimin3181', 'postdate': '20200228'}\n",
            "{'title': '<b>신종</b>플루와 <b>코로나</b> 19, 계절성 독감의 차이', 'link': 'https://blog.naver.com/chn0514?Redirect=Log&logNo=221831394628', 'description': '<b>코로나</b>19와 <b>신종</b>플루 차이 <b>코로나</b>19와 2009년 유행한 <b>신종</b>플루는 확산 초기부터 환자 수에 차이가 닙니다. <b>코로나</b>19는 첫 환자 발생 뒤 한 달 만에 확진자 수가 100명을 넘었지만 같은 기간 <b>신종</b>플루 환자 수는... ', 'bloggername': 'GOGO~', 'bloggerlink': 'https://blog.naver.com/chn0514', 'postdate': '20200301'}\n",
            "{'title': '<b>신종</b>플루 vs <b>코로나</b>19… 같은 장면 다른 장면', 'link': 'https://blog.naver.com/yoonpd71?Redirect=Log&logNo=221830505838', 'description': '영종도=이한호 기자 <b>신종 코로나</b>바이러스 감염증(코로나19) 확산으로 전국이 초비상이다. 마스크 착용과 손 세정제 사용은 일상이 됐다. 11년전 신종인플루엔자A(신종플루)가 전세계를 휩쓸 때도 비슷했다.... ', 'bloggername': '아티스트리 이벤트 추구 열정 윤피디', 'bloggerlink': 'https://blog.naver.com/yoonpd71', 'postdate': '20200229'}\n",
            "{'title': '<b>신종 코로나</b>바이러스 원인 및 예방법 알아볼까요?', 'link': 'https://blog.naver.com/ovenmaru?Redirect=Log&logNo=221827283794', 'description': '#<b>신종코로나</b>바이러스 #<b>신종코로나</b>바이러스 원인 #코로나바이러스 예방법 안녕하세요! 오븐마루치킨입니다. 요즘 <b>신종 코로나</b>바이러스 때문에 난리가 아닙니다 ㅠㅠ 2월 중순쯤 종식되나 했는데.. 그게... ', 'bloggername': '오븐마루치킨', 'bloggerlink': 'https://blog.naver.com/ovenmaru', 'postdate': '20200227'}\n",
            "{'title': '아비간 일본에서 <b>코로나</b>19 치료제로 <b>신종</b>플루약 처방', 'link': 'https://blog.naver.com/sol_2love?Redirect=Log&logNo=221820240926', 'description': '크루즈 관련하여 우리나라보다 먼저 <b>신종 코로나</b> 바이러스의 문제를 크게 겪고 있는 일본에서 신종플루 약으로 유명한 바이러스 치료제 #아비간 을 코로나치료제로 사용하라는 정부와 아베 신조 일본... ', 'bloggername': '행복한은진씨의 뷰티풀라이프', 'bloggerlink': 'https://blog.naver.com/sol_2love', 'postdate': '20200222'}\n",
            "{'title': '[코로나19] <b>신종 코로나</b>바이러스의 증상과 행동 예방수칙', 'link': 'https://blog.naver.com/vdcharlotte?Redirect=Log&logNo=221827276316', 'description': '요즘 코로나19로 불리고 있는 ‘<b>신종 코로나</b>바이러스감염증-19’로 인해 밖을 나가보면 마스크를 쓰지 않은 사람을 찾아보기 힘들 정도인데요. 온 국민을 두려움에 떨게 만든 코로나19! 그 증상과 예방을 위한... ', 'bloggername': '맛있는 이야기가 있는 빌라드 샬롯 공식 블로그', 'bloggerlink': 'https://blog.naver.com/vdcharlotte', 'postdate': '20200227'}\n",
            "{'title': '<b>신종코로나</b> - 역사의 천사', 'link': 'http://blog.daum.net/lieuth/7091586', 'description': '성큼 와있을 봄빛 궁금키도 하거니와 대구와 함께 <b>코로나</b> 메카로 떠오른 청도 분위기도 엿볼겸 장연리... 두 <b>코로나</b>시티 잇는 도로이니 당연히 그래야 하는 걸까 . 주말은 물론이고 평일에도 외식이나 콧바람... ', 'bloggername': '구름 저편에', 'bloggerlink': 'http://blog.daum.net/lieuth', 'postdate': '20200229'}\n",
            "{'title': '(<b>신종코로나</b>) 눈에 보이지 않는 공포가 더 무섭다. -정신과', 'link': 'https://blog.naver.com/wellmind68?Redirect=Log&logNo=221827240865', 'description': '(<b>신종코로나</b>) 눈에 보이지 않는 공포가 더 무섭다. -정신과 지금 우한에서 시작된 코로나 바이러스... 전세계를 강타한 신종 플루는 전염력이 무척이나 강했지만 치사률은 높지 않았다. 메르스가 우리 나라에... ', 'bloggername': '사랑샘터소아정신과', 'bloggerlink': 'https://blog.naver.com/wellmind68', 'postdate': '20200227'}\n",
            "{'title': '<b>신종코로나</b>바이러스 선별진료소 지역별 쉽게 찾는 법', 'link': 'https://blog.naver.com/sorak123?Redirect=Log&logNo=221816605586', 'description': '오늘도 기분좋은 날 되세요~ https://wuhanvirus.kr/ 코로나19(<b>신종 코로나</b>바이러스) 실시간 상황판 코로나19(<b>신종 코로나</b>바이러스)에 관한 한국, 중국 및 세계 각 국가들의 통계 및 뉴스 등을 취합하여 실시간... ', 'bloggername': '호수옆길', 'bloggerlink': 'https://blog.naver.com/sorak123', 'postdate': '20200220'}\n",
            "{'title': '<b>신종 코로나</b>바이러스로 인한 고통 받는 음식점 극복 마케팅', 'link': 'https://blog.naver.com/suessmong?Redirect=Log&logNo=221829669253', 'description': '<b>신종 코로나</b>바이러스의 여파는 너무 대단하다. 전 세계적으로 코로나바이러스때문에 고통을 받고 있다. 2020년 02월 28일 오늘 기준으로는 우리나라는 확진자는 2,337명, 사망자 16명. 치사율 0.68%가 되고 있다. 날이... ', 'bloggername': '마케팅초보성장기(feat.스마트스토어)', 'bloggerlink': 'https://blog.naver.com/suessmong', 'postdate': '20200228'}\n",
            "{'title': '잠실 한의원 <b>신종 코로나</b> 바이러스 19 감염증과 관련뉴스 정리', 'link': 'https://blog.naver.com/ingang17?Redirect=Log&logNo=221821596898', 'description': '그래도 중국과 WTO연구진들, 그리고 우리나라에서 발생한 환자들을 역한 조사한 결과에 의해 최소한의 정보로 <b>신종 코로나</b> 바이러스, 일명 코로나 19 감염증 증상에 대해 감기와의 유사점과 차이점들을... ', 'bloggername': '사람을 더 건강하게 인강한의원', 'bloggerlink': 'https://blog.naver.com/ingang17', 'postdate': '20200224'}\n",
            "{'title': '<b>신종코로나</b>19 피해보신분 기획재정부에 세정지원 신청해보세요^^', 'link': 'https://blog.naver.com/paran_june?Redirect=Log&logNo=221826272655', 'description': '[BY 대한민국 기획재정부] 정부가 코로나 19 확산으로 매출에 타격을 받은 사업장을 지원하기 위한 다양... naver.me <b>신종코로나</b>바이러스19확산으로 인해 많은분들이 고통받고 있습니다. 비방댓글을 올리기에 앞서... ', 'bloggername': '엉뚱마녀의 분양.사이드.', 'bloggerlink': 'https://blog.naver.com/paran_june', 'postdate': '20200227'}\n",
            "{'title': '<b>코로나</b>바이러스-19, 메르스, <b>신종</b>플루...feat.판데믹', 'link': 'https://blog.naver.com/mdkdk?Redirect=Log&logNo=221830510293', 'description': '- 머니투데이 뉴스 한국에서 <b>신종 코로나</b>바이러스(코로나19) 확진자가 급증하는 것은 한국... 2009년 유행한 H1N1 Influenza 바이러스, 소위 신종플루는 초기에는 지금과 같은 방역 대책을 펼쳤지만 계속... ', 'bloggername': '석모도주의 블로그', 'bloggerlink': 'https://blog.naver.com/mdkdk', 'postdate': '20200229'}\n",
            "{'title': '중국, <b>신종 코로나</b> 바이러스 성 폐렴 사망 사후 분석 발표', 'link': 'https://blog.naver.com/seenewskr?Redirect=Log&logNo=221830489448', 'description': '중국은 <b>신종 코로나</b> 바이러스 감염 환자는 주로 폐에 영향을 미치지만 심장에도 영향을 줄 수 있다고 발표했다, 타스통신의 보도에 따르면 새로운 유형의 코로나 바이러스 (SARS-CoV-2)로 인한 폐렴은... ', 'bloggername': '이상조, Lee sangjo 의 \"세계를 마당 삼아\"', 'bloggerlink': 'https://blog.naver.com/seenewskr', 'postdate': '20200229'}\n",
            "{'title': '우한봉쇄 한달후/중국 코로나19현황/<b>신종코로나</b> 광저우 현지상황', 'link': 'https://blog.naver.com/damq700?Redirect=Log&logNo=221820880692', 'description': '중국 코로나19 현황(2월25일 기준) 확진자:77271명 확진의심자:3434명 사망자:2596명 완치자:25065명... 저희 회사는 해외여행을 가는 중국인들 대상으로 하는 업무가 메인 업무인데, <b>신종 코로나</b>로 다들 국내 및 해외... ', 'bloggername': '흐어나의 차이나', 'bloggerlink': 'https://blog.naver.com/damq700', 'postdate': '20200223'}\n",
            "{'title': '<b>신종 코로나</b> 바이러스 피해대응을 위한 긴급경영안정자금 지원', 'link': 'https://blog.naver.com/boseonglove?Redirect=Log&logNo=221827676393', 'description': '코로나 피해기업 긴급 경영안정자금은 ! 전라남도에서 <b>신종 코로나</b> 바이러스 감염증 확산으로 인해 경영난을 겪고 있는 중소기업․소상공인에게 긴급경영안정자금을 지원하고자 합니다. 이번... ', 'bloggername': '보성군청님의블로그', 'bloggerlink': 'https://blog.naver.com/boseonglove', 'postdate': '20200227'}\n",
            "{'title': '[<b>신종코로나</b>] 임산부 노출시 대처방법', 'link': 'https://blog.naver.com/promadre?Redirect=Log&logNo=221827379969', 'description': '요즘 대구에서 <b>신종코로나</b>(covid19 코로나19) 때문에 난리죠? 대구에 사시는 산모님들 중에 코로나바이러스 간접노출 또는 직접적인 노출이 되어 걱정이신 분이 꽤 될꺼라 예상이 됩니다. 자가격리... ', 'bloggername': '프로마드레 산후조리원', 'bloggerlink': 'https://blog.naver.com/promadre', 'postdate': '20200227'}\n",
            "{'title': '<b>코로나</b>19 환자 정점? <b>신종</b>감염병 우한폐렴 경증 중증 환자... ', 'link': 'https://blog.naver.com/mobile8889?Redirect=Log&logNo=221830298760', 'description': '조선일보 이미지 캡처 중국 우한폐렴 코로나19 신종 감염병 3월 20일쯤 정점(?)이라는 분석으로 마스크... 오명돈 위원장은 &quot;중국 우한 사례로 볼 때 <b>신종 코로나</b>는 재생산지수 (확진자 1명이 다른 사람에게... ', 'bloggername': '꽃보다 소소한 여유 & 향기있는 이야기들', 'bloggerlink': 'https://blog.naver.com/mobile8889', 'postdate': '20200229'}\n",
            "{'title': '샌프란시스코 <b>신종 코로나</b> 19 비상사태 선포', 'link': 'https://blog.naver.com/erin515?Redirect=Log&logNo=221828121716', 'description': 'LA행 대한항공 직원의 <b>신종 코로나</b> 19 확진 판정에 심각성이 더해지면서 미서부의 여러 도시에서 코로나 19 비상사태를 선포했습니다. 샌프란시스코도 지난 25일 코로나 19 확산 위험에 대한 시민들의 경각심을... ', 'bloggername': '지금이 가장 좋을 때', 'bloggerlink': 'https://blog.naver.com/erin515', 'postdate': '20200227'}\n",
            "{'title': '코로나19 <b>신종코로나</b> 바이러스 잘못된 상식', 'link': 'https://blog.naver.com/leesoohyun87?Redirect=Log&logNo=221827882384', 'description': 'ㅜㅠㅠㅜㅠㅜㅠㅠㅠ 사태가 쉽게 잡히지 않고 길어지다보니 <b>신종코로나</b> 코로나19에 대해 잘못된 상식이 난무하고 있는데요. 세계보건지구 WHO가 코로나19에 대한 잘못된 상식에 대해 소개하여... ', 'bloggername': '우다다담', 'bloggerlink': 'https://blog.naver.com/leesoohyun87', 'postdate': '20200227'}\n",
            "{'title': '<b>신종 코로나</b>바이러스 선별진료소 방문 과연 안전할까?', 'link': 'https://blog.naver.com/qscvbn12345?Redirect=Log&logNo=221831895060', 'description': '#손소독제 #마스크 #품절 #생필품 #식료품 #코로나바이러스 #<b>신종코로나</b>바이러스 #우한폐렴 #우환폐렴 #폐렴 #기침 #감기 #선별진료소 #증상 #보건소 햇반 COUPANG coupa.ng 동원 라이트 스탠다드 참치 COUPANG coupa.ng', 'bloggername': '러브니즘', 'bloggerlink': 'https://blog.naver.com/qscvbn12345', 'postdate': '20200301'}\n",
            "{'title': '‘<b>신종 코로나</b>’ 사태에 해외서 불티나는 한국 식품', 'link': 'https://blog.naver.com/jchangl9645?Redirect=Log&logNo=221833223901', 'description': '(WP)는 <b>신종 코로나</b>바이러스감염증(코로나19)의 확산에 일각에서 대체 치료법을 찾고 있다며 김치를... 이동권 교수는 “세계적으로 신종 바이러스가 창궐하고 있지만, 바이러스 질환은 치료제가 없는 것과... ', 'bloggername': '자리찾기', 'bloggerlink': 'https://blog.naver.com/jchangl9645', 'postdate': '20200302'}\n",
            "{'title': '<b>신종 코로나</b> 바이러스 공기감염 경로', 'link': 'https://blog.naver.com/shpocher?Redirect=Log&logNo=221822704308', 'description': '거에요 <b>신종 코로나</b> 바이러스 공기감염은 #바이러스 가 공기중에 오랜시간 생존한다는것이 밝혀지면서 가능성이 조금씩 제기가 되어왔어요 보통 침으로 분비된 바이러스들이 2시간 정도면 사멸하는데 #코로나... ', 'bloggername': \"Emmett's Story\", 'bloggerlink': 'https://blog.naver.com/shpocher', 'postdate': '20200224'}\n",
            "{'title': '<b>신종코로나</b>19바이러스에 좋은 사과 식초', 'link': 'https://blog.naver.com/kapple1019?Redirect=Log&logNo=221831925335', 'description': '건강하게 해주는 우리집 음료 좋아요^^ 모두들 사과식초와 신선한 자연재료들로 코로나 19 바이러스 잘이겨내고 더 건강한 몸을 만들어요^^ #<b>신종코로나</b> #<b>신종코로나</b>19#식초 #사과식초#<b>신종코로나</b>19에좋은사과식초', 'bloggername': '안동화련', 'bloggerlink': 'https://blog.naver.com/kapple1019', 'postdate': '20200301'}\n",
            "{'title': '<b>신종 코로나</b> 주가 최저점(바닥) 예측', 'link': 'https://blog.naver.com/ascbbs?Redirect=Log&logNo=221830597280', 'description': '이후 장세가 어떨까 궁금하여 과거 사스,신종플루,메르스 차트를 기반으로 예측해보았다. 위 그림은... <b>신종코로나</b> 하강률이 상대적으로 작은 이유는 사스는 이평선을 봤을떄 하강국면이었고, 코로나는... ', 'bloggername': '긍정과 열정의 미래를 만들자.', 'bloggerlink': 'https://blog.naver.com/ascbbs', 'postdate': '20200229'}\n",
            "{'title': '생후 45일 아기 <b>신종 코로나</b> 확진 , 경북경산 , 신천지', 'link': 'https://blog.naver.com/101sy?Redirect=Log&logNo=221831789036', 'description': '45일된 신생아가 <b>신종 코로나</b>바이러스 감염증(코로나19)에 걸렸다. 전국 최연소다. 1일 보건당국 n.news.naver.com (출처: 연합뉴스) *경북 신천지 현황 왜이렇게.....많아(?) 소름끼친다 진짜 (출처: 경상북도청)', 'bloggername': '나의나의 블로그', 'bloggerlink': 'https://blog.naver.com/101sy', 'postdate': '20200301'}\n",
            "{'title': '3월 첫째날 단상. <b>신종 코로나</b>가 극성인 요즘, 근황', 'link': 'https://blog.naver.com/pjs6565kr?Redirect=Log&logNo=221832605146', 'description': '<b>신종</b>플루, 메르스 때도 그렇고, 어느 정부 간을 떠나서 국가에 일말의 도움을 바라는 건 사치가 된 지 오랜 것 같아요. 작년 추석 때 미세먼지가 너무 심해서 4만 원 주고 구입한 일회용 마스크 100개가 벌써 다... ', 'bloggername': 'Sin prisa pero Sin pausa', 'bloggerlink': 'https://blog.naver.com/pjs6565kr', 'postdate': '20200301'}\n",
            "{'title': '<b>신종코로나</b> 바이러스 누구냐 넌..', 'link': 'https://blog.naver.com/dnntiziplus?Redirect=Log&logNo=221828694886', 'description': '#우한 #우한폐렴 #코로나 #코로나바이러스 #<b>신종코로나</b>바이러스 #예방방법 #코로나예방 #COVID19 여러분 안녕하세요! 오늘은 여정이가 다소 무거운 정보를 알려드리려 합니다... 바로 2020년 대한민국을... ', 'bloggername': '일상의 모든 순간이 여행이 되기를, 여행의 정석', 'bloggerlink': 'https://blog.naver.com/dnntiziplus', 'postdate': '20200228'}\n",
            "{'title': '<b>신종 코로나</b> 바이러스.. 대구지역 의료인 부족.. 대구 간호사... ', 'link': 'https://blog.naver.com/mdyonseient?Redirect=Log&logNo=221830787549', 'description': '<b>신종코로나</b> 바이러스.. 오늘 4시 기준 확진자가 3천명이 넘었네요.. 검사를 하루에 많이 진행하니 확진자가 많은 것도 이상하진 않지만... 그래도 한 지역에 의심되는 환자가 너무 많이생기니 의료인이나... ', 'bloggername': '잘 되는 병원이 아닌 잘 보는 병원', 'bloggerlink': 'https://blog.naver.com/mdyonseient', 'postdate': '20200229'}\n",
            "{'title': '사스, 메르스, <b>신종코로나</b>바이러스 감염자, 사망자 비교', 'link': 'https://blog.naver.com/meg152?Redirect=Log&logNo=221830311156', 'description': '2019년 <b>신종 코로나</b> 바이러스 2019년 12월 중국 우한에서 발원한 새로운 유형의 코로나 바이러스는 현재진행형이다. 2020년 2월 29일 현재 중국만 확진자 8만 명 이상이며, 한국은 확진자 2,337명, 사망자... ', 'bloggername': '나인박스 공식블로그', 'bloggerlink': 'https://blog.naver.com/meg152', 'postdate': '20200229'}\n",
            "{'title': '<b>신종 코로나</b>바이러스 예방수칙 함께 지켜주세요!', 'link': 'https://blog.naver.com/tsu_star?Redirect=Log&logNo=221828610624', 'description': \"<b>신종 코로나</b>바이러스 감염증 'COVID-19'는 기존 코로나 바이러스가 유전적 재조합 과정을 통해 새롭게 만들어지며, 사람에게 감염되어 치명적인 증상을 야기합니다. 전신 증상으로 발열, 오한, 호흡기 증상으로... \", 'bloggername': '대구과학대학교 공식블로그', 'bloggerlink': 'https://blog.naver.com/tsu_star', 'postdate': '20200228'}\n",
            "{'title': '우한 코로나, <b>신종 코로나</b>바이러스, 코로나19(COVID-19), SARS... ', 'link': 'https://blog.naver.com/simbeau?Redirect=Log&logNo=221832437949', 'description': '현관문 손잡이, 계단 난간, 담벼락 등에 붙어 있는 <b>코로나</b> 바이러스는 실온에서 9일 동안 살아있다.... 구리나 철판에 붙어있는 <b>코로나</b> 바이러스는 두 시간 가량 꿈틀거리며, 골판지나 플라스틱 위에... ', 'bloggername': 'deepsea', 'bloggerlink': 'https://blog.naver.com/simbeau', 'postdate': '20200301'}\n",
            "{'title': '<b>신종 코로나</b> 바이러스 예방수칙&amp;예방법', 'link': 'https://blog.naver.com/greencoy79?Redirect=Log&logNo=221818915418', 'description': '이런 때일 수록 예방수칙을 확실하게 알고, #코로나 바이러스의 확산을 막기 위해서 노력해야 할 때입니다! 이번에 <b>신종 코로나</b> 바이러스 확진자가 대거 늘어난 만큼 저도 이번에 예방수칙을 좀 더 꼼꼼하게... ', 'bloggername': '하루 이야기', 'bloggerlink': 'https://blog.naver.com/greencoy79', 'postdate': '20200221'}\n",
            "{'title': '코로나 치료제 렘데시비르, <b>신종 코로나</b> 백신 개발 현황', 'link': 'https://blog.naver.com/truepsh3?Redirect=Log&logNo=221827098907', 'description': '<b>신종 코로나</b> 백신, 코로나 치료제로 기대되고 있는 렘데시비르는 항바이러스제로 원래 에볼라 출혈열 치료를 목적으로 개발되었으나 아직 품목허가가 나지 않은 약이기에, 환자에게 투여하기 위해서는... ', 'bloggername': 'Dr 방원장의 건강한 이야기', 'bloggerlink': 'https://blog.naver.com/truepsh3', 'postdate': '20200227'}\n",
            "{'title': '국내 <b>신종코로나</b> 현황(3월1일 9시) (지역별 감염자수)... ', 'link': 'https://blog.naver.com/zzoggopai?Redirect=Log&logNo=221831769474', 'description': '(코로나19/<b>신종코로나</b>바이러스/우한폐렴) 국내 <b>신종코로나</b> 현황(3월1일 9시) (지역별 감염자수) 확진자 총 3526명 2월29일 16시 대비 376명 늘어났습니다. 총 확진자는 29일 16시 기준 3,150명이었고... ', 'bloggername': '쪼꼬파이 블로그', 'bloggerlink': 'https://blog.naver.com/zzoggopai', 'postdate': '20200301'}\n",
            "{'title': '<b>신종코로나</b>대응:언론과 야당 협조해주세요.', 'link': 'https://blog.naver.com/charm055?Redirect=Log&logNo=221825257388', 'description': '지금 어느나라도 저렇게 적극적으로 코로나검진을 하는 나라도 없고 할수 있는 나라도 없습니다. 이제 미국도 <b>신종코로나</b>대비추경예산을 준비하고 있고 야당인 민주당의원들도 적극 협조할 자세라고... ', 'bloggername': '창원모유119', 'bloggerlink': 'https://blog.naver.com/charm055', 'postdate': '20200226'}\n",
            "{'title': '053. <b>신종 코로나</b>에 대한 유치원 안내', 'link': 'https://blog.naver.com/junyfox?Redirect=Log&logNo=221830662920', 'description': '<b>신종 코로나</b>로 인해 졸업생들이 제일 피해보네요. 세상에 ㅠㅡㅠ 친구들과 헤어지는 것도 서글픈데... 코로나 무서워서 벚꽃축제 취소된 곳도 많고 진짜 멘붕 속상 ㅠㅡㅠ 아직 우리 지역엔 감염자가 없다... ', 'bloggername': 'シュリネZakka ☆슈리네 잡화점', 'bloggerlink': 'https://blog.naver.com/junyfox', 'postdate': '20200229'}\n",
            "{'title': '▶ <b>신종 코로나</b>바이러스 증상과 예방법 ◀', 'link': 'https://blog.naver.com/dhlove72?Redirect=Log&logNo=221823192784', 'description': '확진 환자=833명 사망자=7명 격리 해제=22명 검사 진행|=11,631 그럼 <b>신종 코로나</b>바이러스는 과연 무엇일까요 ▶ 2019년 12월 중국 우한에서 처음 발생한 뒤 전 세계로 확산된, 새로운 유형의 코로나바이러스에 의한... ', 'bloggername': '투자사랑 이다현', 'bloggerlink': 'https://blog.naver.com/dhlove72', 'postdate': '20200224'}\n",
            "{'title': '<b>신종 코로나</b>바이러스, SARS보다 1,000배 빠른 전염력', 'link': 'https://blog.naver.com/ok100star?Redirect=Log&logNo=221830624756', 'description': '<b>신종 코로나</b>바이러스는 SARS보다 1,000배 더 감염될 수 있다고 과학자들은 경고하면서 코로나바이러스는 HIV(면역결핍증 바이러스)나 Ebola와 같은 방식으로 인간을 괴롭히고 있다고 Daily Mail이 중국... ', 'bloggername': '국제 전략문제 연구', 'bloggerlink': 'https://blog.naver.com/ok100star', 'postdate': '20200229'}\n",
            "{'title': '<b>신종 코로나</b> 바이러스 예방을 위해 면역체계를 높여보아요!', 'link': 'https://blog.naver.com/mylife2015?Redirect=Log&logNo=221828772478', 'description': '아동미술학원프랜차이즈 크리아트입니다~ 요즘 <b>신종 코로나</b> 바이러스가 기증을 부리는 요즘!! 코로나 바이러스 예방을위해 많은 예방법들이 나오고 있습니다. 그중에서 우리몸을 예방할수있는 가장 좋은... ', 'bloggername': '크리아트 창의미술연구소', 'bloggerlink': 'https://blog.naver.com/mylife2015', 'postdate': '20200228'}\n",
            "{'title': '[기사] 국내 <b>신종 코로나</b>19 완치자, 6일 만에 재감염~!', 'link': 'https://blog.naver.com/boulboul?Redirect=Log&logNo=221829922460', 'description': '한번 해병은 영원한 해병이라는 구호가 있는데, 한번 코로나19와 인연을 맺은 뒤 완치되도 다시... https://www.hankookilbo.com/News/Read/202002282030730186 완치 판정받은 <b>신종 코로나</b> 환자, 6일 만에 재확진 9이 오후... ', 'bloggername': '보울더(Boulder)의 실버라도(Silverado)', 'bloggerlink': 'https://blog.naver.com/boulboul', 'postdate': '20200229'}\n",
            "{'title': '광주 <b>신종코로나</b> 바이러스 방역및소독 그린홈&amp;그린하우징', 'link': 'https://blog.naver.com/kangjk9652?Redirect=Log&logNo=221830313494', 'description': '#코로나19#코로나소독#<b>신종코로나</b>바이러스#확진자#코로나방역#코로나예방방역#닥터솔누션#메디카바살균제#실내살균#코로나19예방#전염병#감염병예방#마스크 하루가 다르게 확진자가 늘어나고 있네요... ', 'bloggername': '그린홈 토탈홈케어전문업체', 'bloggerlink': 'https://blog.naver.com/kangjk9652', 'postdate': '20200229'}\n",
            "{'title': '추천 (마스크 테마주) - 해외 코로나19/<b>신종코로나</b>/우한폐렴', 'link': 'https://blog.naver.com/skuld2000?Redirect=Log&logNo=221832856241', 'description': '현재 코로나19(<b>신종코로나</b>/우한폐렴)는 아시아를 넘어 맹렬한 속도로 유럽과 미국등 세계 각지로 퍼져 나가고 있습니다. 유럽 내 코로나 확산의 중심지인 이탈리아는 이미 확진자가 1100명을 넘었고 사망자도... ', 'bloggername': '힐링포션 한방울', 'bloggerlink': 'https://blog.naver.com/skuld2000', 'postdate': '20200302'}\n",
            "{'title': '<b>신종 코로나</b>바이러스 현 시각 대구 모습은?', 'link': 'https://blog.naver.com/lkhwa4?Redirect=Log&logNo=221822453873', 'description': '갑자기 늘어난 확진자들 때문에 동성로 행복을 심는 치과도 코로나바이러스에 대처하기 위해 노력 중이랍니다. 환자분들과 우리 직원들의 안전을 위해 온 신경을 몰두하고 있답니다 ^-^ <b>신종 코로나</b>바이러스에... ', 'bloggername': '동성로행복을심는치과', 'bloggerlink': 'https://blog.naver.com/lkhwa4', 'postdate': '20200225'}\n",
            "{'title': '<b>신종코로나</b>예방을 위해 프로폴리스스프레이 뿌려봅니다~☆', 'link': 'https://blog.naver.com/joojooqueen?Redirect=Log&logNo=221829198541', 'description': '콜렉터 나다입니다~☆ <b>신종코로나</b> 바이러스로부터 우리 가족의 위해 뭘더 해야할까 고민하고 고민하고 또 생각한답니다~☆ 뉴스 보도 자료에 의하면... <b>신종코로나</b> 바이러스 취약층이 면역력이 약한 노인과... ', 'bloggername': '엔티크와 빈티지사이 언니가 소개해줄께 ~~☆☆☆', 'bloggerlink': 'https://blog.naver.com/joojooqueen', 'postdate': '20200228'}\n",
            "{'title': '<b>신종코로나</b> 영등포구 확진자발생 대림동확진자동선', 'link': 'https://blog.naver.com/superman0214?Redirect=Log&logNo=221832182673', 'description': '<b>신종 코로나</b>바이러스 감염증(코로나19) 첫번째 확진자가 발생했다. 영등포구(구청장 채현일)는 29일 코로나19 첫번째 확진자가 나왔다고 밝혔다. 확진자는 여의동 수정아파트에 거주하는 60대 남성이다. 그는... ', 'bloggername': '종합검진팀장(포도아빠거봉♡)', 'bloggerlink': 'https://blog.naver.com/superman0214', 'postdate': '20200301'}\n",
            "{'title': '다이소 손소독제-<b>신종코로나</b>바이러스차단효과', 'link': 'https://blog.naver.com/ysince20?Redirect=Log&logNo=221831021302', 'description': '#<b>신종코로나</b>바이러스 때문에 #마스크 없이 외출하기 힘드시죠? 마스크가 있다해도 바이러스가 묻은... 넣고 다니며 손씻기 어려운곳에선 사용해야겠어요. 우리 모두 조심조심 하며 코로나바이러스 이겨내요.', 'bloggername': '통통이의 동탄구경', 'bloggerlink': 'https://blog.naver.com/ysince20', 'postdate': '20200229'}\n",
            "{'title': '<b>신종코로나</b>19와 싸우는 모두에게 섬진강 봄기운을 드립니다.', 'link': 'https://blog.naver.com/koam0816?Redirect=Log&logNo=221830691197', 'description': '우리가 신종바이러스와 싸움에서 머지않아 승리할 수 있다는 확신으로 다가옵니다. <b>신종코로나</b>19... ■ 3월 30일에서 4월 20일까지 벚꽃 필 무렵이면 코로나바이러스는 통제 가능한 수준으로 들어옵니다. 4월... ', 'bloggername': '힐링여행', 'bloggerlink': 'https://blog.naver.com/koam0816', 'postdate': '20200229'}\n",
            "{'title': '[정보] <b>신종 코로나</b>19,  폐섬유화로 평생 고생한다고~?', 'link': 'https://blog.naver.com/boulboul?Redirect=Log&logNo=221832547142', 'description': '더불어 바이러스 감염증에 걸리면 후유증이 만만치 않을 수도 있는데 <b>신종 코로나</b>19 바이러스... 폐섬유화는 <b>신종 코로나</b>에 국한된 문제가 아니라는 점입니다. <b>신종 코로나</b>19 바이러스가 아닌 일반... ', 'bloggername': '보울더(Boulder)의 실버라도(Silverado)', 'bloggerlink': 'https://blog.naver.com/boulboul', 'postdate': '20200301'}\n",
            "{'title': '우아성한의원 <b>신종코로나</b>19 바이러스 방역 관련 안내', 'link': 'https://blog.naver.com/dr_jea?Redirect=Log&logNo=221826227887', 'description': '<b>신종 코로나</b>바이러스 예방 및 확산 방지를 위해서 방역 솔루션을 받았다는 엠블럼과 배너와 인증서도... 본원을 방문하는 부모님과 아이의 건강을 중요하게 여기고 있는 만큼, 우아성한의원에서는 코로나19... ', 'bloggername': '정은아 박사의 우아성한의원 <성조숙증검사>', 'bloggerlink': 'https://blog.naver.com/dr_jea', 'postdate': '20200226'}\n",
            "{'title': '베란다의 봄과 <b>신종 코로나</b>', 'link': 'https://blog.naver.com/pig3275?Redirect=Log&logNo=221821079759', 'description': '이 번에 인류사회의 침투한 코로나는 일종의 감기 현상이라고 말하는 학자도 있으며 <b>신종 코로나</b>에 전염되었다 할지라도 보건당국에서 실시하는 치료만 잘 받으면 생명을 잃는 일은 없다고 합니다. 예방으로는... ', 'bloggername': '녹색공간', 'bloggerlink': 'https://blog.naver.com/pig3275', 'postdate': '20200223'}\n",
            "{'title': '&quot;<b>신종 코로나</b>바이러스 게놈서열 최초 공개 중국 실험실 문 닫아&quot;', 'link': 'https://blog.naver.com/ebookstory?Redirect=Log&logNo=221830760671', 'description': \"SCMP 보도..&quot;구체적 설명 없이 '교정' 이유로 폐쇄 지시&quot; &quot;<b>신종 코로나</b>바이러스 게놈서열 최초 공개 중국 실험실 문 닫아&quot; (선양=연합뉴스) 차병섭 특파원 = 중국 당국에 앞서 <b>신종 코로나</b>바이러스의 게놈... \", 'bloggername': '청송꿀품사과(유애플) uapple.co.kr', 'bloggerlink': 'https://blog.naver.com/ebookstory', 'postdate': '20200229'}\n",
            "{'title': '노일근 박사가 들려주는  <b>신종 코로나</b> 대응법', 'link': 'https://blog.naver.com/koam0816?Redirect=Log&logNo=221819768416', 'description': '<b>신종 코로나</b> 바이러스가 위험한 이유는 무엇입니다. A. 면역체계가 완전히 퇴치할 수 없는 신종... 첫째 <b>신종 코로나</b>바이러스 체내 침입 차단 방법 다음 식품에 함유된 성분은 코로나 바이러스가 세포막을 뚫고... ', 'bloggername': '힐링여행', 'bloggerlink': 'https://blog.naver.com/koam0816', 'postdate': '20200222'}\n",
            "{'title': '이란 <b>신종코로나</b>19  현황  치사율 10% 심각!  휴교', 'link': 'https://blog.naver.com/yangklee?Redirect=Log&logNo=221829670882', 'description': '245명 자료일때 사망은 26명이었다 평균치사율 1~3%보다 상당히높은 10%이다 현재까지 우리나라 치사율은 다른곳보다 잘관리되고있다 이란의 부통령 코로나 확진 ,사우디아라비아 <b>신종코로나</b> 확진자는 없다', 'bloggername': 'lets T R A V E L', 'bloggerlink': 'https://blog.naver.com/yangklee', 'postdate': '20200228'}\n",
            "{'title': '<b>신종코로나</b> 방역 스크린골프장 전체 감염 예방_다잘', 'link': 'https://blog.naver.com/godnka?Redirect=Log&logNo=221822763605', 'description': '특히나 요즘같이 코로나19 예방을 위해 긴급 방역까지 실시하고 있는데요. <b>신종코로나</b> 방역 업체로 추천할만한 곳이랍니다. 본격적으로 진행전에 설명을 간단히 해주세요. 이곳은 스크린 골프장인데요. 규모가... ', 'bloggername': '따뜻한 미디어 Story창', 'bloggerlink': 'https://blog.naver.com/godnka', 'postdate': '20200224'}\n",
            "{'title': '<b>신종 코로나</b> 바이러스(코로나19)를 둘러싼 한국 사회의 과잉... ', 'link': 'https://blog.naver.com/dogstylist?Redirect=Log&logNo=221832700057', 'description': '예방의학 전문의 이덕희가 한국의 코로나 현상에 관해 쓴 여러 편에 공감이 가서 연결한다. * 모든 감염병은 신종으로 시작해 공생으로 마무리됩니다 https://brunch.co.kr/@leedhulpe/42 * <b>신종 코로나</b>, 벼룩... ', 'bloggername': '반이정 미술평론', 'bloggerlink': 'https://blog.naver.com/dogstylist', 'postdate': '20200301'}\n",
            "{'title': '예견된 <b>신종 코로나</b> 바이러스의 확산', 'link': 'https://blog.naver.com/sltec2013?Redirect=Log&logNo=221824466019', 'description': '전문가들은 <b>신종 코로나</b> 바이러스 원천 차단하지 못하면 우리나라에도 생지옥을 만드는 일은 시간문제였다고 생각했을 것입니다 지난 2009년 신종플루 시뮬레이션에서 한 명의 신종플루 감염자가 지하철로... ', 'bloggername': '모두가 행복한 세상', 'bloggerlink': 'https://blog.naver.com/sltec2013', 'postdate': '20200225'}\n",
            "{'title': '질병보다 가장 빠른 속도로 전염되고 있는 <b>신종 코로나</b>바이러스', 'link': 'https://blog.naver.com/ok100star?Redirect=Log&logNo=221827995336', 'description': '것은 <b>신종 코로나</b>바이러스의 바이러스가 이렇게 빨리 퍼질 수 있었는지를 보여주는 몇 가지 요인이라고 말했다. https://youtu.be/6dDD2tHWWnU 이 신종 바이러스는 코로나바이러스 계열에 속하는데, 이것은... ', 'bloggername': '국제 전략문제 연구', 'bloggerlink': 'https://blog.naver.com/ok100star', 'postdate': '20200227'}\n",
            "{'title': '<b>신종코로나</b> 강남구확진자 발생 강남구확진자동선 등 정보.', 'link': 'https://blog.naver.com/superman0214?Redirect=Log&logNo=221832238781', 'description': 'com #강남구확진자#강남구확진자동선#강남구코로나#강남구코로나동선#율전동확진자#율전동확진자동선#율전동코로나#율전동코로나동선#강남확진자#논현동확진자#세곡동확진자#강남구<b>신종코로나</b>... ', 'bloggername': '종합검진팀장(포도아빠거봉♡)', 'bloggerlink': 'https://blog.naver.com/superman0214', 'postdate': '20200301'}\n",
            "{'title': '전세계 <b>신종코로나</b> 현황(2월28일) (감염자/사망자 수, 치사율)', 'link': 'https://blog.naver.com/zzoggopai?Redirect=Log&logNo=221829771386', 'description': '우한폐렴/<b>신종코로나</b>/코로나19 로 불리는 전세계 <b>신종코로나</b> 현황(2월28일) (감염자/사망자 수, 치사율) 말씀드리겠습니다. https://gisanddata.maps.arcgis.com/apps/opsdashboard/index.html... ', 'bloggername': '쪼꼬파이 블로그', 'bloggerlink': 'https://blog.naver.com/zzoggopai', 'postdate': '20200228'}\n",
            "{'title': '<b>신종 코로나</b>19 확산방지위해 자체 방역소독했어요~~', 'link': 'https://blog.naver.com/smrf2012?Redirect=Log&logNo=221829622384', 'description': '코끼리시장 <b>신종 코로나</b>19 확산방지위해 자체 방역소독 실시!! 안녕하세요?? 성남시상권활성화재단... 배치했으며, 코로나19 확산방지를 위해 총력을 쏟고 있습니다. 28일 오전 코끼리시장 오픈 전... ', 'bloggername': '성남시 상권활성화재단', 'bloggerlink': 'https://blog.naver.com/smrf2012', 'postdate': '20200229'}\n",
            "{'title': '코로나19 아니고 중국 우한폐렴 <b>신종코로나</b>', 'link': 'https://blog.naver.com/kujaka?Redirect=Log&logNo=221829576846', 'description': '$%@#%&amp;*#$^&amp; 앞으로는 코로나19 명칭을 중국 우한폐렴 <b>신종코로나</b>라고 중국 우한에서 발병했음을 확실히 해서 부를랍니다! 한국의 선의에 한대도 아니고 수시로 뒷통수 치는 중국이 <b>신종코로나</b> 발병지를... ', 'bloggername': '❀KUJAKA❀', 'bloggerlink': 'https://blog.naver.com/kujaka', 'postdate': '20200228'}\n",
            "{'title': '「COVID-19 <b>신종 코로나</b> 바이러스」 세계 보건 기구 (WHO)... ', 'link': 'https://blog.naver.com/smilewhj?Redirect=Log&logNo=221833170331', 'description': '[COVID-19 <b>신종 코로나</b> 바이러스] 세계 보건 기구 (WHO) 41차 보고 및 질병 관리 본부 (KCDC) 보고 (2020-03-02) 1. 감염 현황 # WHO 보고 (03-01) 전세계 : 87,137 명 확진 (▲ 1,739) - 중국 : 79,968 명... ', 'bloggername': '당신과 나, 우리의 이야기.', 'bloggerlink': 'https://blog.naver.com/smilewhj', 'postdate': '20200302'}\n",
            "{'title': '우한폐렴(<b>신종코로나</b>)과 감기 구분하는 방법, 코르나19가  바꾼... ', 'link': 'https://blog.naver.com/shbae3521?Redirect=Log&logNo=221821876581', 'description': '우한폐렴(<b>신종코로나</b>)과 감기 구분하는 방법, 코로나19가 바꾼 세상! 모정도 변하게 하는 신종코르나! 전통 어머니들은 자식이 아프면 가슴으로 눈물을 흘린다. 그런데 <b>신종코로나</b>가 얼마나 무서우면... ', 'bloggername': '페이지의 세상만사 체험여행', 'bloggerlink': 'https://blog.naver.com/shbae3521', 'postdate': '20200224'}\n",
            "{'title': '02/26/2020 - <b>신종코로나</b>로 인해 바뀐 일상들', 'link': 'https://blog.naver.com/marie95?Redirect=Log&logNo=221826069544', 'description': '이번 <b>신종코로나</b>가 얼마나 긴박하게 돌아가는지 알 수 있는 단적인 예. 켈리씨 사회생활 20년만에... 참고로 JP모건에서 한국내 <b>신종코로나</b> 1만명 예측함. JP모건에서 예측했다는게 좀 웃기긴한데, 하여튼... ', 'bloggername': '테드 와이프, 뿡슌이 엄마의 세상이야기', 'bloggerlink': 'https://blog.naver.com/marie95', 'postdate': '20200226'}\n",
            "{'title': '공개한 <b>신종 코로나</b>바이러스 감염증(COVID-19·코로나19) 환자... ', 'link': 'https://blog.naver.com/vione77?Redirect=Log&logNo=221832493566', 'description': \"중국질병예방통제센터(중국 CDC)가 24일 '미국의학협회지(JAMA)'에 공개한 <b>신종 코로나</b>바이러스 감염증(COVID-19·코로나19) 환자 7만2314명의 임상 사례 데이터를 보면, 대부분(81%) 고열과 기침, 인후통 같은... \", 'bloggername': '기적의 정셰프', 'bloggerlink': 'https://blog.naver.com/vione77', 'postdate': '20200301'}\n",
            "{'title': '【분당구상인연합회】야탑1동 <b>신종 코로나</b>19 확산방지 위해... ', 'link': 'https://blog.naver.com/smrf2012?Redirect=Log&logNo=221829096608', 'description': '<b>신종 코로나</b>19로 걱정이 많아요. 분당구상인연합회 (회장 조우식)은 성남시자율방재단(단장 정종문)에... &quot;상인들은 지금 이 순간이 <b>신종 코로나</b>19로 인해 그 어느때보다 어렵다. 하루 빨리 <b>신종 코로나</b>19 가... ', 'bloggername': '성남시 상권활성화재단', 'bloggerlink': 'https://blog.naver.com/smrf2012', 'postdate': '20200228'}\n",
            "{'title': '<b>신종코로나</b> 4명 구미확진자동선 및 정보내용.', 'link': 'https://blog.naver.com/superman0214?Redirect=Log&logNo=221822629658', 'description': '경산확진자 추가내용 <b>신종코로나</b> 경산확진자 추가 및 양산시확진자동선 양산신천지확진자정보 주인장 포도아빠거봉입니다.#경산확진자#경산코로나#코로나경산#<b>신종코로나</b>경산#경산택배확진자... ', 'bloggername': '종합검진팀장(포도아빠거봉♡)', 'bloggerlink': 'https://blog.naver.com/superman0214', 'postdate': '20200224'}\n",
            "{'title': '<b>신종 코로나</b> 바이러스 발생원인_코로나 바이러는 어디서왔나?', 'link': 'https://blog.naver.com/puha7942?Redirect=Log&logNo=221830207273', 'description': '그런데 이것이 지금 유행하는 코로나 바이러스와 비슷한 바이러스라는 것입니다. 5년전에 이미 예견된 바이러스_미국 의사 장항준박사의 <b>신종코로나</b>바이러스 발원지 분석 (DR. Ezra Hangjun Jang Internal Medicine)... ', 'bloggername': '행복을 찾은사람들 운동본부', 'bloggerlink': 'https://blog.naver.com/puha7942', 'postdate': '20200229'}\n",
            "{'title': '<b>신종코로나</b> 확산 방지 위한 학사일정 추가 변경', 'link': 'https://blog.naver.com/airport4071?Redirect=Log&logNo=221828765124', 'description': '요즘 <b>신종 코로나</b> 때문에 많은 분들께서 몸과 마음이 힘드신데, 개강을 앞두시고 학생분과... 건강한 마음이 코로나 예장의 가장 기본이겠죠?! 너무 두려워 마시고 마스크! 손씻기! 생활하여 모두 함께... ', 'bloggername': '충청대학교 항공교육원', 'bloggerlink': 'https://blog.naver.com/airport4071', 'postdate': '20200228'}\n",
            "{'title': '【금호행복시장】 <b>신종 코로나</b>19 확산방지 위해 방역소독했어요.', 'link': 'https://blog.naver.com/smrf2012?Redirect=Log&logNo=221828994598', 'description': '<b>신종 코로나</b>19 확산방지위해 자체 방역소독실시!! 손소독제 배치 &lt;안전한 쇼핑공간 금호행복시장&gt; 안녕하세요?? 성남시상권활성화재단 분당구 스마일기자 이미순 입니다. 코로나19로 걱정되시죠??... ', 'bloggername': '성남시 상권활성화재단', 'bloggerlink': 'https://blog.naver.com/smrf2012', 'postdate': '20200228'}\n",
            "{'title': '20% + 바디케어 50% 세일해요 (우한폐렴, <b>신종 코로나</b> 대비 )~', 'link': 'https://blog.naver.com/rorotip?Redirect=Log&logNo=221831386906', 'description': '★ BBW 손소독제 추가 20% + 바디케어 50% 세일해요 (우한폐렴, <b>신종 코로나</b> 대비 )~ 찾아보니 손소독제가 바이러스에도 효과가 있다고 하네요~ http://www.donga.com/news/article/all/20200128... ', 'bloggername': 'Shopping Tip 직구', 'bloggerlink': 'https://blog.naver.com/rorotip', 'postdate': '20200301'}\n",
            "{'title': '삼식이 ; <b>신종코로나</b> 일상', 'link': 'https://blog.naver.com/simplebean33?Redirect=Log&logNo=221828638407', 'description': '#<b>신종코로나</b> 때문에 온가족이 #삼식이 생활을 합니다. 방학 때도 삼식이는 아니었는데... 학원 때문에... 갑니다요~~ <b>신종코로나</b>와 싸우는, 지극히 개인적인 방법 <b>신종코로나</b>와 싸우는, 지극히 개인적인 방법은... ', 'bloggername': 'Here&Now', 'bloggerlink': 'https://blog.naver.com/simplebean33', 'postdate': '20200229'}\n",
            "{'title': '<b>신종코로나</b> 대응', 'link': 'https://blog.naver.com/rainbowmilk?Redirect=Log&logNo=221831590254', 'description': '국내 <b>신종 코로나</b>19 확진자가 29일 급속히 늘고 있는 것과 관련, &quot;한국은 코로나19를 잘 통제하고... 한국의 신종 종교 중 하나인 신천지라는 종교의 신도였다&quot;고 지적했다. 특히 &quot;신천지의 신학 해석은... ', 'bloggername': '雜纂, 잡찬.', 'bloggerlink': 'https://blog.naver.com/rainbowmilk', 'postdate': '20200301'}\n",
            "{'title': '독일 내 코로나19(<b>신종코로나</b>/우한폐렴) 확진자 117명 돌파.... ', 'link': 'https://blog.naver.com/skuld2000?Redirect=Log&logNo=221832848697', 'description': '이탈리아를 중심으로 한 유럽 내 코로나19(<b>신종코로나</b>/우한폐렴)의 확산이 점점 심각해지고 있습니다. 현재 독일은 확진자 수가 하루만에 51명이나 증가하며 현재 총 117명에 달하고 있습니다. 중국 입국자... ', 'bloggername': '힐링포션 한방울', 'bloggerlink': 'https://blog.naver.com/skuld2000', 'postdate': '20200302'}\n",
            "{'title': '유럽도 <b>신종 코로나</b> 바이러스 확산 조짐', 'link': 'https://blog.naver.com/seenewskr?Redirect=Log&logNo=221826867639', 'description': '최근 이탈리아가 <b>신종 코로나</b> 바이러스 감염 환자가 확산 일로인 가운데 영국에서도 프린스... 루마니아에서도 <b>신종 코로나</b> 바이러스 감염자가 공식적으로 판정되어 조치를 취했다고 보건부장관이... ', 'bloggername': '이상조, Lee sangjo 의 \"세계를 마당 삼아\"', 'bloggerlink': 'https://blog.naver.com/seenewskr', 'postdate': '20200227'}\n",
            "{'title': '<b>신종 코로나</b>와 대한의사협회', 'link': 'https://blog.naver.com/ipudo?Redirect=Log&logNo=221820424649', 'description': '언론에 제대로 보도되지 않았지만, 2020년 <b>신종 코로나</b> 사태를 맞아 대한의사협회는 눈물겨운 노력을 했다. 그 중에서도 중국이라는 감염원 차단에 대한 중요성을 감염초기부터 지속적으로... ', 'bloggername': '노환규 블로그', 'bloggerlink': 'https://blog.naver.com/ipudo', 'postdate': '20200223'}\n",
            "{'title': '2월27일 원주<b>신종 코로나</b> 확진자와 같은 시간대 같은 동선?', 'link': 'https://blog.naver.com/san52al?Redirect=Log&logNo=221828688331', 'description': '대에 코로나바이러스 확진자가 드나들었다는구먼. 쿵...!!! 충격....!!!! 그래서, 연합뉴스를 비롯해... 어쨌거나 2월27일 오전 9시 반 경에 원주지역의 세브란스병원을 찾았던 <b>신종 코로나</b> 확진자와 동선이 같았고... ', 'bloggername': '歸農後, e山골에서 新火田民처럼 살아보기..', 'bloggerlink': 'https://blog.naver.com/san52al', 'postdate': '20200228'}\n",
            "{'title': '<b>신종코로나</b>19 이 시각 현재 현황은?', 'link': 'https://blog.naver.com/chi2617?Redirect=Log&logNo=221825751275', 'description': '나날이 급증하고 있는 <b>신종코로나</b>19 확진자들 떄문에 대한민국을 비롯한 전세계가 공포에 떨고... ㅠㅠㅠ #md #머천다이저 #취업준비 #취준생은건들지마라코로나 확진자들의 동선이 공개될때마다 확진자들의... ', 'bloggername': '김알바의 블로그', 'bloggerlink': 'https://blog.naver.com/chi2617', 'postdate': '20200226'}\n",
            "{'title': '<b>신종 코로나</b>, 바로알고 예방하기!', 'link': 'https://blog.naver.com/e_leisurvice?Redirect=Log&logNo=221827673938', 'description': '<b>신종 코로나</b>, 바로알고 예방하기 외출 시 위생 안전수칙 <b>신종 코로나</b>바이러스로 위생에 민감해진 요즘... 코로나바이러스 감여에 의심이 되는 증상이 있으시다면, 본인과 가족을 위해 꼭 신고해주세요.... ', 'bloggername': '켄싱턴호텔앤리조트 공식블로그', 'bloggerlink': 'https://blog.naver.com/e_leisurvice', 'postdate': '20200227'}\n",
            "{'title': '코로나19(<b>신종 코로나</b>바이러스) 실시간 확인', 'link': 'https://blog.naver.com/zic0505?Redirect=Log&logNo=221828949157', 'description': '저도 여기저기 찾아봤지만 아래 홈페이지처럼 빠르고 자세한 안내를 못 본거 같아요 ~ ( 신뢰할 수 있는 홈페이지 맞겠죠 ㅋㅋ) 코로나19(<b>신종 코로나</b>바이러스) 실시간 상황판 코로나19(<b>신종 코로나</b>바이러스)에... ', 'bloggername': '아일랜드어학연수 유학브랜드 \"디스커버아일랜드\"', 'bloggerlink': 'https://blog.naver.com/zic0505', 'postdate': '20200228'}\n",
            "{'title': '<b>신종 코로나</b>바이러스 - 블로그 이웃들은 필독하시기 바랍니다.', 'link': 'https://blog.naver.com/ipudo?Redirect=Log&logNo=221817238438', 'description': '(SARS-CoV-2란 우한폐렴 즉 <b>신종 코로나</b>바이러스를 의미합니다. 염기서열이 기존의 사스 바이러스와 유사해서 사스 코로나바이러스-2라고도 불렸습니다) 이 논문 중에는 매우 중요한 귀절이 몇 개... ', 'bloggername': '노환규 블로그', 'bloggerlink': 'https://blog.naver.com/ipudo', 'postdate': '20200220'}\n",
            "{'title': '<b>신종코로나</b> 오산확진자 발생. 오산확진자동선등 주의.', 'link': 'https://blog.naver.com/superman0214?Redirect=Log&logNo=221830254185', 'description': '경기 오산시에서 첫 <b>신종 코로나</b>바이러스 감염증(코로나19) 확진자가 나왔다. #오산확진자 #오산코로나 시 보건당국은 29일 2명의 코로나 확진자가 나왔다고 밝혔다. 확진자는 #오산외삼미동 소재... ', 'bloggername': '종합검진팀장(포도아빠거봉♡)', 'bloggerlink': 'https://blog.naver.com/superman0214', 'postdate': '20200229'}\n",
            "{'title': '<b>신종코로나</b> 수원확진자 추가발생 율촌동확진자동선등. 정보', 'link': 'https://blog.naver.com/superman0214?Redirect=Log&logNo=221830328257', 'description': 'm.blog.naver.com #수원확진자#수원확진자동선#수원코로나#수원코로나동선#장안구코로나#장안구<b>신종코로나</b>#장안구확진자#율천동확진자#율천동확진자동선#율천동코로나#율전동코로나#율전동확진자... ', 'bloggername': '종합검진팀장(포도아빠거봉♡)', 'bloggerlink': 'https://blog.naver.com/superman0214', 'postdate': '20200229'}\n",
            "{'title': '현진 CS, <b>신종 코로나</b> 예방 취약계층 방역', 'link': 'https://blog.naver.com/ddccity?Redirect=Log&logNo=221829250023', 'description': '동두천시 현진 CS는 <b>신종 코로나</b>바이러스 감염증의 선제적 예방을 위해 생연2동의 면역력이 약한... 함께 <b>신종코로나</b> 감염예방을 위한 손 씻기 요령 등 예방 캠페인도 함께 할 예정이다. 최여원 대표는 “정서적... ', 'bloggername': '행복쉼터 동두천', 'bloggerlink': 'https://blog.naver.com/ddccity', 'postdate': '20200228'}\n",
            "{'title': \"[20200229] '<b>신종 코로나</b>바이러스 감염증' 방지 마스크...... \", 'link': 'https://blog.naver.com/gaoblade?Redirect=Log&logNo=221830350179', 'description': '참 사람들이... 생각이 너무 없습니다. 코로나바이러스 여파로 인하여 절도범이 많아진건 사실입니다. #코로나19 #<b>신종코로나</b>바이러스 #코로나19바이러스 #마스크 #손소독제', 'bloggername': \"KAISERKNIGHT'S NEVER LAND\", 'bloggerlink': 'https://blog.naver.com/gaoblade', 'postdate': '20200229'}\n",
            "{'title': '영국에서도 첫 <b>신종 코로나</b> 바이러스 감염자 나타나', 'link': 'https://blog.naver.com/seenewskr?Redirect=Log&logNo=221830318361', 'description': '영국에서도 첫 <b>신종 코로나</b> 바이러스 감염자가 나왔다, 영국의 의사협회 크리스 휘티 (Chris Whitty)는 새로운 코로나 바이러스 첫 감염 사례가 국내에서 기록되었다고 밝혔다, RIA Novosti는 영국의 써리... ', 'bloggername': '이상조, Lee sangjo 의 \"세계를 마당 삼아\"', 'bloggerlink': 'https://blog.naver.com/seenewskr', 'postdate': '20200229'}\n",
            "{'title': '대구 <b>신종코로나</b> 의료봉사중인 의사의 글', 'link': 'https://blog.naver.com/charm055?Redirect=Log&logNo=221833257613', 'description': 'ㅜㅜ 신천지 교인검사가 90%넘었고 유증상자가 3000명이라고하니 확진자는 좀 더 나올거같습니다. 대구의료지원분들 너무 고생많으시고 정말 감사합니다. ##대구<b>신종코로나</b>#대구의료지원', 'bloggername': '창원모유119', 'bloggerlink': 'https://blog.naver.com/charm055', 'postdate': '20200302'}\n"
          ]
        }
      ],
      "source": [
        "import requests\n",
        "from urllib.parse import urlparse\n",
        "\n",
        "# 함수 선언\n",
        "def get_api_result(keyword, display, start) :\n",
        "    url = \"https://openapi.naver.com/v1/search/blog?query=\" + keyword + \"&display=\" + str(display) + \"&start=\" + str(start)\n",
        "    result = requests.get(urlparse(url).geturl(),\n",
        "                        headers = {\"X-Naver-Client-Id\":\"frBMA0JHYp1zATqntdUJ\",\n",
        "                                  \"X-Naver-Client-Secret\":\"CzMu_Uce6r\"})\n",
        "    return result.json()\n",
        "\n",
        "\n",
        "def call_and_print(keyword, page):\n",
        "    json_obj = get_api_result(keyword, 100, page)\n",
        "    for item in json_obj['items'] :\n",
        "        print(item)\n",
        "\n",
        "# 메인 코드\n",
        "keyword=\"신종코로나\"\n",
        "call_and_print(keyword, 1) # 1-100\n",
        "#call_and_print(keyword, 101) # 101-200"
      ]
    },
    {
      "cell_type": "markdown",
      "metadata": {
        "id": "cieYmib2DWr-"
      },
      "source": [
        "### 제목, 링크만 뽑아서 엑셀에 넣기"
      ]
    },
    {
      "cell_type": "code",
      "execution_count": null,
      "metadata": {
        "id": "0gp0TqU-DXho"
      },
      "outputs": [],
      "source": [
        "import requests\n",
        "from urllib.parse import urlparse\n",
        "import pandas as pd\n",
        "\n",
        "# 검색결과 저장\n",
        "lc_title = []\n",
        "lc_link = []\n",
        "\n",
        "# 함수 선언\n",
        "def get_api_result(keyword, display, start) :\n",
        "    url = \"https://openapi.naver.com/v1/search/blog?query=\" + keyword + \"&display=\" + str(display) + \"&start=\" + str(start)\n",
        "    result = requests.get(urlparse(url).geturl(),\n",
        "                        headers = {\"X-Naver-Client-Id\":\"frBMA0JHYp1zATqntdUJ\",\n",
        "                                  \"X-Naver-Client-Secret\":\"CzMu_Uce6r\"})\n",
        "    return result.json()\n",
        "\n",
        "def call_and_print(keyword, page):\n",
        "    json_obj = get_api_result(keyword, 100, page)\n",
        "    for item in json_obj['items'] :\n",
        "        title = item['title'].replace(\"<b>\", \"\").replace(\"</b>\", \"\")\n",
        "        link = item['link']\n",
        "\n",
        "        # 결과를 리스트에 넣기\n",
        "        lc_title.append(title)\n",
        "        lc_link.append(link)\n",
        "\n",
        "# 메인 코드\n",
        "keyword=\"신종코로나\"\n",
        "call_and_print(keyword, 1) # 1-100\n",
        "\n",
        "\n",
        "# pandas를 이용하여 csv, excel로 저장하기\n",
        "df = pd.DataFrame()\n",
        "\n",
        "df['title']=lc_title\n",
        "df['link']=lc_link\n",
        "\n",
        "df.to_csv(\"naver_output.csv\",encoding=\"utf-8-sig\", index=False)\n",
        "df.to_excel(\"naver_output.xlsx\", index=False)\n"
      ]
    },
    {
      "cell_type": "markdown",
      "metadata": {
        "id": "4o_HEv2JGKAP"
      },
      "source": [
        "### 워드 클라우드 그리기\n",
        "#### title만 텍스트 파일로 저장하기"
      ]
    },
    {
      "cell_type": "code",
      "execution_count": null,
      "metadata": {
        "colab": {
          "base_uri": "https://localhost:8080/",
          "height": 56
        },
        "id": "r0QlpjXhDXlW",
        "outputId": "0e5e23b6-5948-4027-a296-c8cf817b8dcc"
      },
      "outputs": [
        {
          "name": "stdout",
          "output_type": "stream",
          "text": [
            "엄마 반성문 (ft. 신종코로나 때문이야.)신종코로나 이탈리아 현지소식 2‘신종 코로나 공포’ 해외 전문가 긴급 진단신종 코로나바이러스로 인해 필리핀에 한국인 입국을 금지 또는... 우한폐렴(신종 코로나바이러스)은 메르스와 많이 다릅니다.신종 코로나 바이러스 19를 대처하는 중국정부, 본질을 흐리고... 신종 코로나 바이러스 구별 방법과 예방에 대한 전문가 의견신종 코로나 바이러스 예방 비타민CThe Lancet에 소개된 신종코로나 관련 논문입니다신종 코로나바이러스감염증-19 심각단계! 예방행동수칙 알아보기신종코로나19 예방수칙과 대응법에는 어떤 것이 있을까?트럼프 대통령의 신종 코로나 바이러스에 대한 대대적인... 신종 코로나바이러스와 떨어진 숲세권 이천전원주택매매신종플루와 코로나 19, 계절성 독감의 차이신종플루 vs 코로나19… 같은 장면 다른 장면신종 코로나바이러스 원인 및 예방법 알아볼까요?아비간 일본에서 코로나19 치료제로 신종플루약 처방[코로나19] 신종 코로나바이러스의 증상과 행동 예방수칙신종코로나 - 역사의 천사(신종코로나) 눈에 보이지 않는 공포가 더 무섭다. -정신과신종코로나바이러스 선별진료소 지역별 쉽게 찾는 법신종 코로나바이러스로 인한 고통 받는 음식점 극복 마케팅코로나바이러스-19, 메르스, 신종플루...feat.판데믹중국, 신종 코로나 바이러스 성 폐렴 사망 사후 분석 발표잠실 한의원 신종 코로나 바이러스 19 감염증과 관련뉴스 정리신종코로나19 피해보신분 기획재정부에 세정지원 신청해보세요^^우한봉쇄 한달후/중국 코로나19현황/신종코로나 광저우 현지상황신종 코로나 바이러스 피해대응을 위한 긴급경영안정자금 지원[신종코로나] 임산부 노출시 대처방법코로나19 환자 정점? 신종감염병 우한폐렴 경증 중증 환자... 샌프란시스코 신종 코로나 19 비상사태 선포신종 코로나바이러스 선별진료소 방문 과연 안전할까?코로나19 신종코로나 바이러스 잘못된 상식‘신종 코로나’ 사태에 해외서 불티나는 한국 식품생후 45일 아기 신종 코로나 확진 , 경북경산 , 신천지신종 코로나 바이러스 공기감염 경로신종코로나19바이러스에 좋은 사과 식초신종 코로나 주가 최저점(바닥) 예측3월 첫째날 단상. 신종 코로나가 극성인 요즘, 근황신종코로나 바이러스 누구냐 넌..신종 코로나 바이러스.. 대구지역 의료인 부족.. 대구 간호사... 사스, 메르스, 신종코로나바이러스 감염자, 사망자 비교우한 코로나, 신종 코로나바이러스, 코로나19(COVID-19), SARS... 신종 코로나바이러스 예방수칙 함께 지켜주세요!신종 코로나 바이러스 예방수칙&amp;예방법코로나 치료제 렘데시비르, 신종 코로나 백신 개발 현황국내 신종코로나 현황(3월1일 9시) (지역별 감염자수)... 신종 코로나바이러스, SARS보다 1,000배 빠른 전염력053. 신종 코로나에 대한 유치원 안내신종코로나대응:언론과 야당 협조해주세요.▶ 신종 코로나바이러스 증상과 예방법 ◀추천 (마스크 테마주) - 해외 코로나19/신종코로나/우한폐렴신종 코로나 바이러스 예방을 위해 면역체계를 높여보아요![기사] 국내 신종 코로나19 완치자, 6일 만에 재감염~!광주 신종코로나 바이러스 방역및소독 그린홈&amp;그린하우징신종 코로나바이러스 현 시각 대구 모습은?신종코로나 영등포구 확진자발생 대림동확진자동선다이소 손소독제-신종코로나바이러스차단효과신종코로나예방을 위해 프로폴리스스프레이 뿌려봅니다~☆신종코로나19와 싸우는 모두에게 섬진강 봄기운을 드립니다.[정보] 신종 코로나19,  폐섬유화로 평생 고생한다고~?우아성한의원 신종코로나19 바이러스 방역 관련 안내&quot;신종 코로나바이러스 게놈서열 최초 공개 중국 실험실 문 닫아&quot;신종 코로나 바이러스(코로나19)를 둘러싼 한국 사회의 과잉... 베란다의 봄과 신종 코로나신종코로나 강남구확진자 발생 강남구확진자동선 등 정보.노일근 박사가 들려주는  신종 코로나 대응법이란 신종코로나19  현황  치사율 10% 심각!  휴교신종코로나 방역 스크린골프장 전체 감염 예방_다잘질병보다 가장 빠른 속도로 전염되고 있는 신종 코로나바이러스신종 코로나19 확산방지위해 자체 방역소독했어요~~전세계 신종코로나 현황(2월28일) (감염자/사망자 수, 치사율)코로나19 아니고 중국 우한폐렴 신종코로나「COVID-19 신종 코로나 바이러스」 세계 보건 기구 (WHO)... 우한폐렴(신종코로나)과 감기 구분하는 방법, 코르나19가  바꾼... 02/26/2020 - 신종코로나로 인해 바뀐 일상들공개한 신종 코로나바이러스 감염증(COVID-19·코로나19) 환자... 신종코로나 사태로 식당 97.9%가 매출 감소신종코로나 4명 구미확진자동선 및 정보내용.【분당구상인연합회】야탑1동 신종 코로나19 확산방지 위해... 신종 코로나 바이러스 발생원인_코로나 바이러는 어디서왔나?신종코로나 확산 방지 위한 학사일정 추가 변경【금호행복시장】 신종 코로나19 확산방지 위해 방역소독했어요.20% + 바디케어 50% 세일해요 (우한폐렴, 신종 코로나 대비 )~신종코로나 대응삼식이 ; 신종코로나 일상독일 내 코로나19(신종코로나/우한폐렴) 확진자 117명 돌파.... 유럽도 신종 코로나 바이러스 확산 조짐신종 코로나와 대한의사협회2월27일 원주신종 코로나 확진자와 같은 시간대 같은 동선?신종코로나19 이 시각 현재 현황은?신종 코로나, 바로알고 예방하기!코로나19(신종 코로나바이러스) 실시간 확인신종 코로나바이러스 - 블로그 이웃들은 필독하시기 바랍니다.신종코로나 오산확진자 발생. 오산확진자동선등 주의.신종코로나 수원확진자 추가발생 율촌동확진자동선등. 정보현진 CS, 신종 코로나 예방 취약계층 방역[20200229] '신종 코로나바이러스 감염증' 방지 마스크...... 영국에서도 첫 신종 코로나 바이러스 감염자 나타나대구 신종코로나 의료봉사중인 의사의 글\n"
          ]
        }
      ],
      "source": [
        "import requests\n",
        "from urllib.parse import urlparse\n",
        "import pandas as pd\n",
        "\n",
        "\n",
        "def get_api_result(keyword, display, start) :\n",
        "    url = \"https://openapi.naver.com/v1/search/blog?query=\" + keyword + \"&display=\" + str(display) + \"&start=\" + str(start)\n",
        "    result = requests.get(urlparse(url).geturl(),\n",
        "                        headers = {\"X-Naver-Client-Id\":\"frBMA0JHYp1zATqntdUJ\",\n",
        "                                  \"X-Naver-Client-Secret\":\"CzMu_Uce6r\"})\n",
        "    return result.json()\n",
        "\n",
        "def call_and_print(keyword, page):\n",
        "    tot_title = \"\"     #검색결과 저장\n",
        "    json_obj = get_api_result(keyword, 100, page)\n",
        "    for item in json_obj['items'] :\n",
        "        title = item['title'].replace(\"<b>\", \"\").replace(\"</b>\", \"\")\n",
        "\n",
        "        # 결과를 텍스트로 만들기\n",
        "        tot_title += title\n",
        "\n",
        "    return tot_title\n",
        "\n",
        "keyword=\"신종코로나\"\n",
        "title_100 = call_and_print(keyword, 1) # 1-100\n",
        "print(title_100)\n"
      ]
    },
    {
      "cell_type": "code",
      "execution_count": null,
      "metadata": {
        "colab": {
          "base_uri": "https://localhost:8080/",
          "height": 36
        },
        "id": "Nk3tI880DXsO",
        "outputId": "5c9af2c5-80df-4054-d1b5-3c2a7c85908a"
      },
      "outputs": [
        {
          "data": {
            "text/plain": [
              "str"
            ]
          },
          "execution_count": 18,
          "metadata": {
            "tags": []
          },
          "output_type": "execute_result"
        }
      ],
      "source": [
        "type(title_100)"
      ]
    },
    {
      "cell_type": "code",
      "execution_count": null,
      "metadata": {
        "colab": {
          "base_uri": "https://localhost:8080/",
          "height": 36
        },
        "id": "zPXSaIvzH7Lp",
        "outputId": "1a7be2e2-076d-4779-95ad-f4f027218b8b"
      },
      "outputs": [
        {
          "data": {
            "text/plain": [
              "2846"
            ]
          },
          "execution_count": 19,
          "metadata": {
            "tags": []
          },
          "output_type": "execute_result"
        }
      ],
      "source": [
        "len(title_100)"
      ]
    },
    {
      "cell_type": "markdown",
      "metadata": {
        "id": "noFN85chIejv"
      },
      "source": [
        "#### 워드 클라우드 그리기"
      ]
    },
    {
      "cell_type": "code",
      "execution_count": null,
      "metadata": {
        "colab": {
          "base_uri": "https://localhost:8080/"
        },
        "id": "KbOZXE-5KH7_",
        "outputId": "d6c94d87-da0c-44c2-92f3-8988e6ee3aab"
      },
      "outputs": [
        {
          "output_type": "stream",
          "name": "stdout",
          "text": [
            "Collecting konlpy\n",
            "  Downloading konlpy-0.6.0-py2.py3-none-any.whl (19.4 MB)\n",
            "\u001b[2K     \u001b[90m━━━━━━━━━━━━━━━━━━━━━━━━━━━━━━━━━━━━━━━━\u001b[0m \u001b[32m19.4/19.4 MB\u001b[0m \u001b[31m36.8 MB/s\u001b[0m eta \u001b[36m0:00:00\u001b[0m\n",
            "\u001b[?25hCollecting JPype1>=0.7.0 (from konlpy)\n",
            "  Downloading JPype1-1.5.0-cp310-cp310-manylinux_2_17_x86_64.manylinux2014_x86_64.whl (488 kB)\n",
            "\u001b[2K     \u001b[90m━━━━━━━━━━━━━━━━━━━━━━━━━━━━━━━━━━━━━━━━\u001b[0m \u001b[32m488.6/488.6 kB\u001b[0m \u001b[31m37.1 MB/s\u001b[0m eta \u001b[36m0:00:00\u001b[0m\n",
            "\u001b[?25hRequirement already satisfied: lxml>=4.1.0 in /usr/local/lib/python3.10/dist-packages (from konlpy) (4.9.4)\n",
            "Requirement already satisfied: numpy>=1.6 in /usr/local/lib/python3.10/dist-packages (from konlpy) (1.23.5)\n",
            "Requirement already satisfied: packaging in /usr/local/lib/python3.10/dist-packages (from JPype1>=0.7.0->konlpy) (23.2)\n",
            "Installing collected packages: JPype1, konlpy\n",
            "Successfully installed JPype1-1.5.0 konlpy-0.6.0\n"
          ]
        }
      ],
      "source": [
        "# konlpy 설치\n",
        "!pip install konlpy"
      ]
    },
    {
      "cell_type": "code",
      "execution_count": null,
      "metadata": {
        "id": "2dby1hC4IDnB"
      },
      "outputs": [],
      "source": [
        "# 경고 무시\n",
        "import warnings\n",
        "warnings.filterwarnings(action='ignore')\n",
        "\n",
        "# 모듈 설치\n",
        "import pandas as pd\n",
        "import numpy as np\n",
        "\n",
        "import platform\n",
        "import matplotlib.pyplot as plt\n",
        "\n",
        "%matplotlib inline\n",
        "plt.rcParams['axes.unicode_minus'] = False\n",
        "\n",
        "from wordcloud import WordCloud, STOPWORDS\n",
        "from PIL import Image\n",
        "\n",
        "import requests\n",
        "from urllib.parse import urlparse\n",
        "from bs4 import BeautifulSoup\n",
        "\n",
        "from nltk import Text\n",
        "import nltk"
      ]
    },
    {
      "cell_type": "code",
      "source": [
        "!pip install --upgrade matplotlib\n"
      ],
      "metadata": {
        "colab": {
          "base_uri": "https://localhost:8080/"
        },
        "id": "E9RG90jhMEVF",
        "outputId": "3ad6ecc2-8b0a-4daa-fc60-404359b22b69"
      },
      "execution_count": null,
      "outputs": [
        {
          "output_type": "stream",
          "name": "stdout",
          "text": [
            "Requirement already satisfied: matplotlib in /usr/local/lib/python3.10/dist-packages (3.8.2)\n",
            "Requirement already satisfied: contourpy>=1.0.1 in /usr/local/lib/python3.10/dist-packages (from matplotlib) (1.2.0)\n",
            "Requirement already satisfied: cycler>=0.10 in /usr/local/lib/python3.10/dist-packages (from matplotlib) (0.12.1)\n",
            "Requirement already satisfied: fonttools>=4.22.0 in /usr/local/lib/python3.10/dist-packages (from matplotlib) (4.47.0)\n",
            "Requirement already satisfied: kiwisolver>=1.3.1 in /usr/local/lib/python3.10/dist-packages (from matplotlib) (1.4.5)\n",
            "Requirement already satisfied: numpy<2,>=1.21 in /usr/local/lib/python3.10/dist-packages (from matplotlib) (1.23.5)\n",
            "Requirement already satisfied: packaging>=20.0 in /usr/local/lib/python3.10/dist-packages (from matplotlib) (23.2)\n",
            "Requirement already satisfied: pillow>=8 in /usr/local/lib/python3.10/dist-packages (from matplotlib) (9.4.0)\n",
            "Requirement already satisfied: pyparsing>=2.3.1 in /usr/local/lib/python3.10/dist-packages (from matplotlib) (3.1.1)\n",
            "Requirement already satisfied: python-dateutil>=2.7 in /usr/local/lib/python3.10/dist-packages (from matplotlib) (2.8.2)\n",
            "Requirement already satisfied: six>=1.5 in /usr/local/lib/python3.10/dist-packages (from python-dateutil>=2.7->matplotlib) (1.16.0)\n"
          ]
        }
      ]
    },
    {
      "cell_type": "code",
      "execution_count": null,
      "metadata": {
        "colab": {
          "base_uri": "https://localhost:8080/",
          "height": 237
        },
        "id": "bc4AZu5NJmm8",
        "outputId": "349fdc86-8e98-47fb-bb1e-23ec7fd6ecff"
      },
      "outputs": [
        {
          "output_type": "error",
          "ename": "AttributeError",
          "evalue": "module 'matplotlib.font_manager' has no attribute '_rebuild'",
          "traceback": [
            "\u001b[0;31m---------------------------------------------------------------------------\u001b[0m",
            "\u001b[0;31mAttributeError\u001b[0m                            Traceback (most recent call last)",
            "\u001b[0;32m<ipython-input-5-64603a03d278>\u001b[0m in \u001b[0;36m<cell line: 12>\u001b[0;34m()\u001b[0m\n\u001b[1;32m     10\u001b[0m \u001b[0;32mimport\u001b[0m \u001b[0mmatplotlib\u001b[0m\u001b[0;34m.\u001b[0m\u001b[0mpyplot\u001b[0m \u001b[0;32mas\u001b[0m \u001b[0mplt\u001b[0m\u001b[0;34m\u001b[0m\u001b[0;34m\u001b[0m\u001b[0m\n\u001b[1;32m     11\u001b[0m \u001b[0;32mimport\u001b[0m \u001b[0mmatplotlib\u001b[0m \u001b[0;32mas\u001b[0m \u001b[0mmpl\u001b[0m\u001b[0;34m\u001b[0m\u001b[0;34m\u001b[0m\u001b[0m\n\u001b[0;32m---> 12\u001b[0;31m \u001b[0mmpl\u001b[0m\u001b[0;34m.\u001b[0m\u001b[0mfont_manager\u001b[0m\u001b[0;34m.\u001b[0m\u001b[0m_rebuild\u001b[0m\u001b[0;34m(\u001b[0m\u001b[0;34m)\u001b[0m\u001b[0;34m\u001b[0m\u001b[0;34m\u001b[0m\u001b[0m\n\u001b[0m\u001b[1;32m     13\u001b[0m \u001b[0mmpl\u001b[0m\u001b[0;34m.\u001b[0m\u001b[0mpyplot\u001b[0m\u001b[0;34m.\u001b[0m\u001b[0mrc\u001b[0m\u001b[0;34m(\u001b[0m\u001b[0;34m'font'\u001b[0m\u001b[0;34m,\u001b[0m \u001b[0mfamily\u001b[0m\u001b[0;34m=\u001b[0m\u001b[0;34m'NanumBarunGothic'\u001b[0m\u001b[0;34m)\u001b[0m\u001b[0;34m\u001b[0m\u001b[0;34m\u001b[0m\u001b[0m\n",
            "\u001b[0;31mAttributeError\u001b[0m: module 'matplotlib.font_manager' has no attribute '_rebuild'"
          ]
        }
      ],
      "source": [
        "# 그래프에서 한글표현을 위해 폰트를 설치합니다.\n",
        "%config InlineBackend.figure_format = 'retina'\n",
        "\n",
        "!apt-get -qq -y install fonts-nanum > /dev/null\n",
        "import matplotlib.font_manager as fm\n",
        "fontpath = '/usr/share/fonts/truetype/nanum/NanumBarunGothic.ttf'\n",
        "font = fm.FontProperties(fname=fontpath, size=9)\n",
        "\n",
        "# 기본 글꼴 변경\n",
        "import matplotlib.pyplot as plt\n",
        "import matplotlib as mpl\n",
        "mpl.font_manager._rebuild()\n",
        "mpl.pyplot.rc('font', family='NanumBarunGothic')"
      ]
    },
    {
      "cell_type": "code",
      "execution_count": null,
      "metadata": {
        "colab": {
          "base_uri": "https://localhost:8080/"
        },
        "id": "UzTwB5xlH7Q8",
        "outputId": "205ed3e1-eb2b-4aef-afdd-8faabbfe50d1"
      },
      "outputs": [
        {
          "output_type": "stream",
          "name": "stdout",
          "text": [
            "류현진 아닌 '92년생 투수' 영입 뉴욕 메츠…'코리안 몬스터' 갈 곳이 사라졌...&quot;얼굴·키·직업·학교까지 고를 수 있다&quot;…뜨는 '신종 소개팅'영주보건소, 코로나19 선별진료소 1천441일간 운영 마무리[인터뷰] 오윤주 인천의료원 진료부원장 &quot;언제든 지역 의료안전 최전선서 뛸 ...국내외 스타 연주자 ‘클래식 향연’… 명작 발레·오페라도 풍성광주 공공의료체계 약화 우려 속 안이한 인식은 금물영국 런던, 금주 지하철 파업에 혼란 직면[전북특별자치도 ‘프런티어 특례들’] 고령친화·의생명산업 조성첫 올스타 축제…'아산'이 뜨거워졌다영주시보건소, 코로나19 선별진료소 1441일간 운영 마무리[SW현장메모] “영광이에요”...한 발 다가온 올스타들에 팬들은 ‘함박 웃음...“K라면 잘나가네”…지난해 라면 수출액 9억5000만달러로 ‘사상 최대’K푸드 열풍에 지난해 라면 수출액 사상 최대경제 회복 걸림돌 될까…미국, 홍해 물류난에 ‘촉각’‘K댄스’로 의기투합한 댄서와 시장 “도시를 춤추게 했죠”지난해 라면 수출액 9억5200만달러…전년 대비 24% 증가K라면 수출액 10억 달러 눈앞…‘역대 최대’ 비결은?[공식발표] KIA 윌 크로우 100만 달러 영입… 평균 151㎞ 파이어볼러 입성, 외...작년 라면 수출, 1조 2000억원 규모로 '사상 최대'지난해 국내 철도 승객 1억6천만명… 코로나 이전 수준 회복BTS 뷔가 사랑한 ‘서진이네 불라면’… K-콘텐츠 인기에 라면 수출 '사상 최...지난해 라면 수출액 9억 5천만불 돌파 '사상 최대' [뉴시스Pic]&quot;급여 줄고 잘릴까 걱정&quot;… 직장인 10명 중 4명, 고용관계 악화 전망[특례릴레이]고령친화산업·의생명산업 거점 조성 특례특자도 출범 앞둔 전북, 의·생명산업 집중 육성 TB 도약 별러“뱃살만 빼면 완벽한 인생”, ‘스나이퍼’ 장성호가 9년차 해설자로 사는 법...&quot;한국인처럼 라면 먹자&quot;…외국인들 그렇게 라면에 열광하더니 결국…‘효리네민박’ 25억집 제주 그 동네…단독주택 제일 많이 팔렸다 [부동산360...속초시, 4년간 운영 코로나19 선별진료소 철거작년 라면 수출액 1조2000억 '사상 최대'정부, 부가가치세 간이과세 기준 '8000만원→1억원' 상향 검토치료해준 구급대원 코뼈 부러뜨린 60대…폭행 이유 황당해외에서도 통하는 韓 라면…작년 수출액 1조2000억 '사상 최대'정부, 이번에는 자영업자 표심잡기…부가가치세 간이과세 기준 1억원으로 상향...&quot;신흥국 선거, 선심 포퓰리즘에 금융시장 불안 키울 수도&quot;'치료했더니 주먹을'…구급대원 때려 코뼈 부러뜨린 60대작년 라면 수출액 9억5천만 달러…또 '신기록'&quot;마스크 써달라&quot;는 말에 치료해준 구급대원 폭행한 60대 징역형속초시, 코로나19 선별진료소 1월 5일부로 철거치료해주다 '날벼락'…구급대원 폭행해 코뼈 부러뜨린 60대男의 최후셔츠 벗다 손가락 부러졌던 플리색, MLB 에인절스와 계약정부, 부가가치세 간이과세 기준 '8천만원→1억원대 상향' 검토노토강진 日 피난소에 코로나19 등 전염병 확산&quot;한국 라면 잘 나가네~&quot;...수출액 10억 달러 근접'기껏 치료해줬더니'…구급대원 때려 코뼈 부러뜨린 60대소비 양극화 속 가치소비 &quot;확산일로&quot;…설 선물 소비계층도 &quot;3人3色&quot;최고 연구 역량으로 미래 의학 선도, 고려대 의과대학배달비 줄이고 메뉴 찾는 시간 줄여주고…배달앱 3사, 등 돌린 고객 잡기에 안...“왜 이렇게 비싸?”…까르푸, 유럽 매장서 펩시 제품 퇴출K-라면 날았다…작년 수출액 '사상 최대'겨울 추억 낚는다...첫날 10만1000여명 모인 ‘이 축제’[강원2024 D-10] ① 평창 유산 잇는 꿈나무 올림픽 10일 앞으로작년 라면 수출액 9억5천만달러로 '사상 최대'경쟁력 사라진 체크카드…1년 새 50만매 '증발'LG헬로비전, 체질 개선으로 '로컬 크리에이터' 꿈꾼다'화천 산천어축제' 10만 방문객 속 개막주먹 한 번에 2억 달러 날린 사나이가 있다… 처참한 몰락, 이대로 MLB서 매장...화천산천어축제 개막…첫날 10만명 운집세계적 겨울축제에 하루 10만명 몰렸다&quot;겨울이 좋다&quot; 화천산천어축제 개막…첫날 10만명 운집(종합)39개 시민사회단체, 화천산천어축제 동물 학대 중단 촉구전지현·손예진이 먹었더니…해외서 최고 '인기 한식' 됐다 [오정민의 유통한...관광객 1위 한국인 사망에 괌 현지 충격… &quot;절대 용납할 수 없는 일&quot;‘겨울철 세계 7대 불가사의 축제’ 한국서 막 올랐다...어디길래...화천산천어축제 6일 개막…첫날부터 짜릿한 낚시 삼매경에 ‘북적북적’'바글바글' 화천산천어축제 개막…첫날부터 얼음낚시터 인파 북적화천산천어축제 개막…첫날부터 얼음낚시터에 인파 북적모두투어, 2023년 해외여행 송출객 전년 대비 327% 증가세상이 테일러 스위프트를 사랑하는 이유(feat. 팬덤 ‘스위프티’) [시차적응...[35사단 이전 10년](상) &quot;장병들 없으면 장사 못하죠&quot;…효자노릇제약·바이오株, 연초 고공행진…“금리 등 모멘텀 충분”플렉센은 메이저리그로 돌아갔다… '특급 유망주 출신' 삼성 새 외국인도 그럴...줄이고 풀고 퍼주고…선거만 닥치면 흔들리는 ‘나라 살림’파리 메달 노리는 수영대표팀, 호주 전훈 시작…&quot;아시아 넘어 세계로&quot;조선업계 패러다임 바꿀 '자율운항선박'… 무엇이 다르길래“이제 남양유업 초코에몽 불매 안해도 되는 걸까요?” [신동윤의 나우,스톡]티웨이항공, 성장하려면 안전운항이 우선하나손보, '디지털' 간판 내리나?… 미니보험 당분간 안 만든다CES에서 대접 못 받는 한국 기업들 [최연진의 IT 프리즘][CES 2024] 미리보는 지상 최대 IT·가전쇼… 삼성·LG·현대차·SK 총출동코로나 치료제 탓에 사망? 1만7000여명 피해 추정괌 관광 50대 한국인, 강도 총 맞아 사망[오늘과 내일/윤완준]증오 부추기는 정치 4월에 퇴출해야[증권소식] 작년 의무보유등록 해제 주식 31억주/이베스트증권, 대주주 LS네트...英 권력의 핵심 옥스퍼드… 베일에 싸인 실체는트럼프가 코로나19 때 극찬한 '신의 선물'...&quot;복용자 1만7000명 숨져&quot;이스라엘 국방 &quot;전후 가자지구 팔레스타인 기구가 통치&quot;...유엔, 세계 경제 둔...‘확진자 급증’ 신종 코로나 변이 ‘JN.1’···전염성 높지만 경증[헬스]일양약품 본사 압수수색...코로나 치료제 주가 조작 의혹영주시보건소 코로나19 선별진료소 1441일간의 운영 마무리경찰, 일양약품 본사 압수수색…코로나 치료제 주가조작 의혹코로나 치료제 주가조작 의혹 일양약품 압수수색변화 바람 부는 유업계…매일유업 ‘3세 승진’·남양유업 ‘오너 경영 종료’'코로나 치료제 주가조작 의혹' 일양약품 본사 압수수색‘신종변이’ 코로나 재확산세 심각진격의 KG·GM…홀로 뒷걸음질 르노[차이나는 차이나 리포트] 올해 中 경제 4% 중반 성장, 5% 안팎 힘들 듯, 한국...정부의 건설 살리기 '올인'…우려되는 '전통적 경기 부양'“당일 구경? 일단 7000원 내라” 관광도 돈 주고 하라는 伊도시, 무슨 일전북도, 의생명산업 목표로 '아시아 보스턴' 꿈꾼다\n"
          ]
        }
      ],
      "source": [
        "# 오픈 API로 데이타 수집하기\n",
        "import requests\n",
        "from urllib.parse import urlparse\n",
        "import pandas as pd\n",
        "\n",
        "\n",
        "def get_api_result(keyword, display, start) :\n",
        "    #url = \"https://openapi.naver.com/v1/search/blog?query=\" + keyword + \"&display=\" + str(display) + \"&start=\" + str(start)\n",
        "    url = \"https://openapi.naver.com/v1/search/news?query=\" + keyword + \"&display=\" + str(display) + \"&start=\" + str(start)\n",
        "    result = requests.get(urlparse(url).geturl(),\n",
        "                        headers = {\"X-Naver-Client-Id\":\"frBMA0JHYp1zATqntdUJ\",\n",
        "                                  \"X-Naver-Client-Secret\":\"CzMu_Uce6r\"})\n",
        "    return result.json()\n",
        "\n",
        "def call_and_print(keyword, page):\n",
        "    tot_title = \"\"     #검색결과 저장\n",
        "    json_obj = get_api_result(keyword, 100, page)\n",
        "    for item in json_obj['items'] :\n",
        "        title = item['title'].replace(\"<b>\", \"\").replace(\"</b>\", \"\")\n",
        "\n",
        "        # 결과를 텍스트로 만들기\n",
        "        tot_title += title\n",
        "\n",
        "    return tot_title\n",
        "\n",
        "keyword=\"신종코로나\"\n",
        "title_100 = call_and_print(keyword, 1) # 1-100\n",
        "print(title_100)\n"
      ]
    },
    {
      "cell_type": "code",
      "execution_count": null,
      "metadata": {
        "colab": {
          "base_uri": "https://localhost:8080/",
          "height": 181
        },
        "id": "kFRXfBp2K36v",
        "outputId": "62f7c53e-a73c-4a9c-d3f8-50aa663662d1"
      },
      "outputs": [
        {
          "output_type": "execute_result",
          "data": {
            "text/plain": [
              "\"류현진 아닌 '92년생 투수' 영입 뉴욕 메츠…'코리안 몬스터' 갈 곳이 사라졌...&quot;얼굴·키·직업·학교까지 고를 수 있다&quot;…뜨는 '신종 소개팅'영주보건소, 코로나19 선별진료소 1천441일간 운영 마무리[인터뷰] 오윤주 인천의료원 진료부원장 &quot;언제든 지역 의료안전 최전선서 뛸 ...국내외 스타 연주자 ‘클래식 향연’… 명작 발레·오페라도 풍성광주 공공의료체계 약화 우려 속 안이한 인식은 금물영국 런던, 금주 지하철 파업에 혼란 직면[전북특별자치도 ‘프런티어 특례들’] 고령친화·의생명산업 조성첫 올스타 축제…'아산'이 뜨거워졌다영주시보건소, 코로나19 선별진료소 1441일간 운영 마무리[SW현장메모] “영광이에요”...한 발 다가온 올스타들에 팬들은 ‘함박 웃음...“K라면 잘나가네”…지난해 라면 수출액 9억5000만달러로 ‘사상 최대’K푸드 열풍에 지난해 라면 수출액 사상 최대경제 회복 걸림돌 될까…미국, 홍해 물류난에 ‘촉각’‘K댄스’로 의기투합한 댄서와 시장 “도시를 춤추게 했죠”지난해 라면 수출액 9억5200만달러…전년 대비 24% 증가K라면 수출액 10억 달러 눈앞…‘역대 최대’ 비결은?[공식발표] KIA 윌 크로우 100만 달러 영입… 평균 151㎞ 파이어볼러 입성, 외...작년 라면 수출, 1조 2000억원 규모로 '사상 최대'지난해 국내 철도 승객 1억6천만명… 코로나 이전 수준 회복BTS 뷔가 사랑한 ‘서진이네 불라면’… K-콘텐츠 인기에 라면 수출 '사상 최...지난해 라면 수출액 9억 5천만불 돌파 '사상 최대' [뉴시스Pic]&quot;급여 줄고 잘릴까 걱정&quot;… 직장인 10명 중 4명, 고용관계 악화 전망[특례릴레이]고령친화산업·의생명산업 거점 조성 특례특자도 출범 앞둔 전북, 의·생명산업 집중 육성 TB 도약 별러“뱃살만 빼면 완벽한 인생”, ‘스나이퍼’ 장성호가 9년차 해설자로 사는 법...&quot;한국인처럼 라면 먹자&quot;…외국인들 그렇게 라면에 열광하더니 결국…‘효리네민박’ 25억집 제주 그 동네…단독주택 제일 많이 팔렸다 [부동산360...속초시, 4년간 운영 코로나19 선별진료소 철거작년 라면 수출액 1조2000억 '사상 최대'정부, 부가가치세 간이과세 기준 '8000만원→1억원' 상향 검토치료해준 구급대원 코뼈 부러뜨린 60대…폭행 이유 황당해외에서도 통하는 韓 라면…작년 수출액 1조2000억 '사상 최대'정부, 이번에는 자영업자 표심잡기…부가가치세 간이과세 기준 1억원으로 상향...&quot;신흥국 선거, 선심 포퓰리즘에 금융시장 불안 키울 수도&quot;'치료했더니 주먹을'…구급대원 때려 코뼈 부러뜨린 60대작년 라면 수출액 9억5천만 달러…또 '신기록'&quot;마스크 써달라&quot;는 말에 치료해준 구급대원 폭행한 60대 징역형속초시, 코로나19 선별진료소 1월 5일부로 철거치료해주다 '날벼락'…구급대원 폭행해 코뼈 부러뜨린 60대男의 최후셔츠 벗다 손가락 부러졌던 플리색, MLB 에인절스와 계약정부, 부가가치세 간이과세 기준 '8천만원→1억원대 상향' 검토노토강진 日 피난소에 코로나19 등 전염병 확산&quot;한국 라면 잘 나가네~&quot;...수출액 10억 달러 근접'기껏 치료해줬더니'…구급대원 때려 코뼈 부러뜨린 60대소비 양극화 속 가치소비 &quot;확산일로&quot;…설 선물 소비계층도 &quot;3人3色&quot;최고 연구 역량으로 미래 의학 선도, 고려대 의과대학배달비 줄이고 메뉴 찾는 시간 줄여주고…배달앱 3사, 등 돌린 고객 잡기에 안...“왜 이렇게 비싸?”…까르푸, 유럽 매장서 펩시 제품 퇴출K-라면 날았다…작년 수출액 '사상 최대'겨울 추억 낚는다...첫날 10만1000여명 모인 ‘이 축제’[강원2024 D-10] ① 평창 유산 잇는 꿈나무 올림픽 10일 앞으로작년 라면 수출액 9억5천만달러로 '사상 최대'경쟁력 사라진 체크카드…1년 새 50만매 '증발'LG헬로비전, 체질 개선으로 '로컬 크리에이터' 꿈꾼다'화천 산천어축제' 10만 방문객 속 개막주먹 한 번에 2억 달러 날린 사나이가 있다… 처참한 몰락, 이대로 MLB서 매장...화천산천어축제 개막…첫날 10만명 운집세계적 겨울축제에 하루 10만명 몰렸다&quot;겨울이 좋다&quot; 화천산천어축제 개막…첫날 10만명 운집(종합)39개 시민사회단체, 화천산천어축제 동물 학대 중단 촉구전지현·손예진이 먹었더니…해외서 최고 '인기 한식' 됐다 [오정민의 유통한...관광객 1위 한국인 사망에 괌 현지 충격… &quot;절대 용납할 수 없는 일&quot;‘겨울철 세계 7대 불가사의 축제’ 한국서 막 올랐다...어디길래...화천산천어축제 6일 개막…첫날부터 짜릿한 낚시 삼매경에 ‘북적북적’'바글바글' 화천산천어축제 개막…첫날부터 얼음낚시터 인파 북적화천산천어축제 개막…첫날부터 얼음낚시터에 인파 북적모두투어, 2023년 해외여행 송출객 전년 대비 327% 증가세상이 테일러 스위프트를 사랑하는 이유(feat. 팬덤 ‘스위프티’) [시차적응...[35사단 이전 10년](상) &quot;장병들 없으면 장사 못하죠&quot;…효자노릇제약·바이오株, 연초 고공행진…“금리 등 모멘텀 충분”플렉센은 메이저리그로 돌아갔다… '특급 유망주 출신' 삼성 새 외국인도 그럴...줄이고 풀고 퍼주고…선거만 닥치면 흔들리는 ‘나라 살림’파리 메달 노리는 수영대표팀, 호주 전훈 시작…&quot;아시아 넘어 세계로&quot;조선업계 패러다임 바꿀 '자율운항선박'… 무엇이 다르길래“이제 남양유업 초코에몽 불매 안해도 되는 걸까요?” [신동윤의 나우,스톡]티웨이항공, 성장하려면 안전운항이 우선하나손보, '디지털' 간판 내리나?… 미니보험 당분간 안 만든다CES에서 대접 못 받는 한국 기업들 [최연진의 IT 프리즘][CES 2024] 미리보는 지상 최대 IT·가전쇼… 삼성·LG·현대차·SK 총출동코로나 치료제 탓에 사망? 1만7000여명 피해 추정괌 관광 50대 한국인, 강도 총 맞아 사망[오늘과 내일/윤완준]증오 부추기는 정치 4월에 퇴출해야[증권소식] 작년 의무보유등록 해제 주식 31억주/이베스트증권, 대주주 LS네트...英 권력의 핵심 옥스퍼드… 베일에 싸인 실체는트럼프가 코로나19 때 극찬한 '신의 선물'...&quot;복용자 1만7000명 숨져&quot;이스라엘 국방 &quot;전후 가자지구 팔레스타인 기구가 통치&quot;...유엔, 세계 경제 둔...‘확진자 급증’ 신종 코로나 변이 ‘JN.1’···전염성 높지만 경증[헬스]일양약품 본사 압수수색...코로나 치료제 주가 조작 의혹영주시보건소 코로나19 선별진료소 1441일간의 운영 마무리경찰, 일양약품 본사 압수수색…코로나 치료제 주가조작 의혹코로나 치료제 주가조작 의혹 일양약품 압수수색변화 바람 부는 유업계…매일유업 ‘3세 승진’·남양유업 ‘오너 경영 종료’'코로나 치료제 주가조작 의혹' 일양약품 본사 압수수색‘신종변이’ 코로나 재확산세 심각진격의 KG·GM…홀로 뒷걸음질 르노[차이나는 차이나 리포트] 올해 中 경제 4% 중반 성장, 5% 안팎 힘들 듯, 한국...정부의 건설 살리기 '올인'…우려되는 '전통적 경기 부양'“당일 구경? 일단 7000원 내라” 관광도 돈 주고 하라는 伊도시, 무슨 일전북도, 의생명산업 목표로 '아시아 보스턴' 꿈꾼다\""
            ],
            "application/vnd.google.colaboratory.intrinsic+json": {
              "type": "string"
            }
          },
          "metadata": {},
          "execution_count": 7
        }
      ],
      "source": [
        "title_100"
      ]
    },
    {
      "cell_type": "code",
      "execution_count": null,
      "metadata": {
        "id": "krPvCWuKIvF1"
      },
      "outputs": [],
      "source": [
        "# 형태소 분석기\n",
        "from konlpy.tag import Okt\n",
        "t = Okt()"
      ]
    },
    {
      "cell_type": "code",
      "execution_count": null,
      "metadata": {
        "colab": {
          "base_uri": "https://localhost:8080/"
        },
        "id": "8A5p_Y2fIvKp",
        "outputId": "b03d411e-edc7-4a19-99b8-57e96affcb85"
      },
      "outputs": [
        {
          "output_type": "execute_result",
          "data": {
            "text/plain": [
              "['류현진',\n",
              " '투수',\n",
              " '뉴욕',\n",
              " '메츠',\n",
              " '코리안',\n",
              " '몬스터',\n",
              " '얼굴',\n",
              " '직업',\n",
              " '학교',\n",
              " '신종',\n",
              " '소개팅',\n",
              " '영주',\n",
              " '보건소',\n",
              " '코로나',\n",
              " '진료',\n",
              " '운영',\n",
              " '마무리',\n",
              " '인터뷰',\n",
              " '윤주',\n",
              " '인천',\n",
              " '의료',\n",
              " '진료',\n",
              " '부원장',\n",
              " '언제',\n",
              " '지역',\n",
              " '의료',\n",
              " '안전',\n",
              " '최전선',\n",
              " '국내외',\n",
              " '스타',\n",
              " '연주자',\n",
              " '클래식',\n",
              " '향연',\n",
              " '명작',\n",
              " '발레',\n",
              " '오페',\n",
              " '광주',\n",
              " '의료',\n",
              " '체계',\n",
              " '약화',\n",
              " '우려',\n",
              " '인식',\n",
              " '금물',\n",
              " '영국',\n",
              " '런던',\n",
              " '금주',\n",
              " '지하철',\n",
              " '파업',\n",
              " '혼란',\n",
              " '직면',\n",
              " '전북',\n",
              " '특별자치도',\n",
              " '프런티어',\n",
              " '특례들',\n",
              " '고령',\n",
              " '생명',\n",
              " '산업',\n",
              " '조성',\n",
              " '올스타',\n",
              " '축제',\n",
              " '아산',\n",
              " '영주시',\n",
              " '보건소',\n",
              " '코로나',\n",
              " '진료',\n",
              " '운영',\n",
              " '마무리',\n",
              " '현장',\n",
              " '메모',\n",
              " '영광',\n",
              " '올스타',\n",
              " '함박',\n",
              " '웃음',\n",
              " '라면',\n",
              " '지난해',\n",
              " '라면',\n",
              " '수출',\n",
              " '사상',\n",
              " '최대',\n",
              " '푸드',\n",
              " '열풍',\n",
              " '지난해',\n",
              " '라면',\n",
              " '수출',\n",
              " '사상',\n",
              " '최대',\n",
              " '경제',\n",
              " '회복',\n",
              " '미국',\n",
              " '홍해',\n",
              " '물류',\n",
              " '촉각',\n",
              " '댄스',\n",
              " '의기',\n",
              " '투합',\n",
              " '댄서',\n",
              " '시장',\n",
              " '도시',\n",
              " '지난해',\n",
              " '라면',\n",
              " '수출',\n",
              " '대비',\n",
              " '증가',\n",
              " '라면',\n",
              " '수출',\n",
              " '달러',\n",
              " '눈앞',\n",
              " '역대',\n",
              " '최대',\n",
              " '비결',\n",
              " '공식',\n",
              " '발표',\n",
              " '크로우',\n",
              " '달러',\n",
              " '평균',\n",
              " '파이어',\n",
              " '입성',\n",
              " '작년',\n",
              " '라면',\n",
              " '수출',\n",
              " '규모',\n",
              " '사상',\n",
              " '최대',\n",
              " '지난해',\n",
              " '국내',\n",
              " '철도',\n",
              " '승객',\n",
              " '코로나',\n",
              " '이전',\n",
              " '수준',\n",
              " '회복',\n",
              " '사랑',\n",
              " '서진',\n",
              " '콘텐츠',\n",
              " '인기',\n",
              " '라면',\n",
              " '수출',\n",
              " '사상',\n",
              " '지난해',\n",
              " '라면',\n",
              " '수출',\n",
              " '돌파',\n",
              " '사상',\n",
              " '최대',\n",
              " '뉴시스',\n",
              " '급여',\n",
              " '걱정',\n",
              " '직장인',\n",
              " '고용',\n",
              " '관계',\n",
              " '악화',\n",
              " '전망',\n",
              " '특례',\n",
              " '릴레이',\n",
              " '고령',\n",
              " '산업',\n",
              " '생명',\n",
              " '산업',\n",
              " '거점',\n",
              " '조성',\n",
              " '특례특자',\n",
              " '출범',\n",
              " '전북',\n",
              " '생명',\n",
              " '산업',\n",
              " '집중',\n",
              " '육성',\n",
              " '도약',\n",
              " '별러',\n",
              " '뱃살',\n",
              " '인생',\n",
              " '스나이퍼',\n",
              " '장성호',\n",
              " '해설',\n",
              " '한국인',\n",
              " '라면',\n",
              " '외국',\n",
              " '라면',\n",
              " '효리',\n",
              " '민박',\n",
              " '제주',\n",
              " '동네',\n",
              " '단독주택',\n",
              " '제일',\n",
              " '부동산',\n",
              " '속초시',\n",
              " '운영',\n",
              " '코로나',\n",
              " '진료',\n",
              " '철거',\n",
              " '작년',\n",
              " '라면',\n",
              " '수출',\n",
              " '사상',\n",
              " '최대',\n",
              " '정부',\n",
              " '부가가치세',\n",
              " '간이',\n",
              " '과세',\n",
              " '기준',\n",
              " '상향',\n",
              " '검토',\n",
              " '치료',\n",
              " '구급대원',\n",
              " '코뼈',\n",
              " '부러',\n",
              " '폭행',\n",
              " '이유',\n",
              " '황당',\n",
              " '해외',\n",
              " '라면',\n",
              " '작년',\n",
              " '수출',\n",
              " '사상',\n",
              " '최대',\n",
              " '정부',\n",
              " '이번',\n",
              " '자영',\n",
              " '업자',\n",
              " '표심',\n",
              " '잡기',\n",
              " '부가가치세',\n",
              " '간이',\n",
              " '과세',\n",
              " '기준',\n",
              " '상향',\n",
              " '신흥',\n",
              " '선거',\n",
              " '선심',\n",
              " '포퓰리즘',\n",
              " '금융시장',\n",
              " '불안',\n",
              " '수도',\n",
              " '치료',\n",
              " '주먹',\n",
              " '구급대원',\n",
              " '코뼈',\n",
              " '부러',\n",
              " '작년',\n",
              " '라면',\n",
              " '수출',\n",
              " '달러',\n",
              " '신기록',\n",
              " '마스크',\n",
              " '달라',\n",
              " '치료',\n",
              " '구급대원',\n",
              " '폭행',\n",
              " '징역형',\n",
              " '속초시',\n",
              " '코로나',\n",
              " '진료',\n",
              " '철거',\n",
              " '치료',\n",
              " '날벼락',\n",
              " '구급대원',\n",
              " '폭행',\n",
              " '코뼈',\n",
              " '부러',\n",
              " '최후',\n",
              " '셔츠',\n",
              " '손가락',\n",
              " '플리',\n",
              " '에인절스',\n",
              " '계약',\n",
              " '정부',\n",
              " '부가가치세',\n",
              " '간이',\n",
              " '과세',\n",
              " '기준',\n",
              " '상향',\n",
              " '검토',\n",
              " '노토',\n",
              " '강진',\n",
              " '피난소',\n",
              " '코로나',\n",
              " '전염병',\n",
              " '확산',\n",
              " '한국',\n",
              " '라면',\n",
              " '수출',\n",
              " '달러',\n",
              " '근접',\n",
              " '기껏',\n",
              " '치료',\n",
              " '구급대원',\n",
              " '코뼈',\n",
              " '부러',\n",
              " '소비',\n",
              " '양극화',\n",
              " '가치',\n",
              " '소비',\n",
              " '확산',\n",
              " '일로',\n",
              " '선물',\n",
              " '소비',\n",
              " '계층',\n",
              " '최고',\n",
              " '연구',\n",
              " '역량',\n",
              " '미래',\n",
              " '의학',\n",
              " '선도',\n",
              " '고려대',\n",
              " '의과대학',\n",
              " '배달',\n",
              " '메뉴',\n",
              " '시간',\n",
              " '배달',\n",
              " '고객',\n",
              " '잡기',\n",
              " '까르푸',\n",
              " '유럽',\n",
              " '매장',\n",
              " '펩시',\n",
              " '제품',\n",
              " '라면',\n",
              " '작년',\n",
              " '수출',\n",
              " '사상',\n",
              " '최대',\n",
              " '겨울',\n",
              " '추억',\n",
              " '낚는다',\n",
              " '첫날',\n",
              " '여명',\n",
              " '축제',\n",
              " '강원',\n",
              " '평창',\n",
              " '유산',\n",
              " '나무',\n",
              " '올림픽',\n",
              " '작년',\n",
              " '라면',\n",
              " '수출',\n",
              " '사상',\n",
              " '최대',\n",
              " '경쟁력',\n",
              " '체크카드',\n",
              " '증발',\n",
              " '헬로비전',\n",
              " '체질',\n",
              " '개선',\n",
              " '로컬',\n",
              " '크리에이터',\n",
              " '화천',\n",
              " '산천어',\n",
              " '축제',\n",
              " '방문객',\n",
              " '개막',\n",
              " '주먹',\n",
              " '달러',\n",
              " '사나이',\n",
              " '몰락',\n",
              " '매장',\n",
              " '화천',\n",
              " '산천어',\n",
              " '축제',\n",
              " '개막',\n",
              " '첫날',\n",
              " '운집',\n",
              " '세계',\n",
              " '겨울',\n",
              " '축제',\n",
              " '하루',\n",
              " '겨울',\n",
              " '화천',\n",
              " '산천어',\n",
              " '축제',\n",
              " '개막',\n",
              " '첫날',\n",
              " '운집',\n",
              " '종합',\n",
              " '시민사회단체',\n",
              " '화천',\n",
              " '산천어',\n",
              " '축제',\n",
              " '동물',\n",
              " '학대',\n",
              " '중단',\n",
              " '촉구',\n",
              " '전지현',\n",
              " '손예진',\n",
              " '해외',\n",
              " '최고',\n",
              " '인기',\n",
              " '한식',\n",
              " '오정민',\n",
              " '유통',\n",
              " '관광객',\n",
              " '한국인',\n",
              " '사망',\n",
              " '현지',\n",
              " '충격',\n",
              " '절대',\n",
              " '용납',\n",
              " '겨울철',\n",
              " '세계',\n",
              " '불가사의',\n",
              " '축제',\n",
              " '한국',\n",
              " '어디',\n",
              " '화천',\n",
              " '산천어',\n",
              " '축제',\n",
              " '개막',\n",
              " '첫날',\n",
              " '낚시',\n",
              " '매경',\n",
              " '북적',\n",
              " '북적',\n",
              " '화천',\n",
              " '산천어',\n",
              " '축제',\n",
              " '개막',\n",
              " '첫날',\n",
              " '얼음',\n",
              " '낚시터',\n",
              " '인파',\n",
              " '북적',\n",
              " '산천어',\n",
              " '축제',\n",
              " '개막',\n",
              " '첫날',\n",
              " '얼음',\n",
              " '낚시터',\n",
              " '인파',\n",
              " '북적',\n",
              " '모두투어',\n",
              " '해외여행',\n",
              " '송출객',\n",
              " '대비',\n",
              " '증가',\n",
              " '상이',\n",
              " '테일러',\n",
              " '스위프트',\n",
              " '사랑',\n",
              " '이유',\n",
              " '팬덤',\n",
              " '스위',\n",
              " '프티',\n",
              " '시차',\n",
              " '적응',\n",
              " '사단',\n",
              " '이전',\n",
              " '장병',\n",
              " '장사',\n",
              " '효자',\n",
              " '노릇',\n",
              " '제약',\n",
              " '바이오',\n",
              " '연초',\n",
              " '고공',\n",
              " '행진',\n",
              " '금리',\n",
              " '모멘텀',\n",
              " '충분',\n",
              " '메이저리그',\n",
              " '특급',\n",
              " '유망',\n",
              " '출신',\n",
              " '삼성',\n",
              " '외국인',\n",
              " '퍼주',\n",
              " '선거',\n",
              " '닥치',\n",
              " '나라',\n",
              " '살림',\n",
              " '파리',\n",
              " '메달',\n",
              " '수영',\n",
              " '대표팀',\n",
              " '호주',\n",
              " '전훈',\n",
              " '시작',\n",
              " '아시아',\n",
              " '세계',\n",
              " '조선업',\n",
              " '패러다임',\n",
              " '자율',\n",
              " '운항',\n",
              " '선박',\n",
              " '무엇',\n",
              " '이제',\n",
              " '남양유업',\n",
              " '초코',\n",
              " '불매',\n",
              " '안해',\n",
              " '동윤',\n",
              " '나우',\n",
              " '스톡',\n",
              " '티웨이항공',\n",
              " '안전',\n",
              " '운항',\n",
              " '손보',\n",
              " '디지털',\n",
              " '간판',\n",
              " '리나',\n",
              " '미니',\n",
              " '보험',\n",
              " '당분간',\n",
              " '대접',\n",
              " '한국',\n",
              " '기업',\n",
              " '최연',\n",
              " '진의',\n",
              " '프리즘',\n",
              " '미리',\n",
              " '지상',\n",
              " '최대',\n",
              " '가전',\n",
              " '삼성',\n",
              " '현대차',\n",
              " '출동',\n",
              " '코로나',\n",
              " '치료',\n",
              " '사망',\n",
              " '여명',\n",
              " '피해',\n",
              " '추정',\n",
              " '관광',\n",
              " '한국인',\n",
              " '강도',\n",
              " '사망',\n",
              " '오늘',\n",
              " '내일',\n",
              " '윤완준',\n",
              " '증오',\n",
              " '정치',\n",
              " '증권',\n",
              " '소식',\n",
              " '작년',\n",
              " '의무',\n",
              " '보유',\n",
              " '등록',\n",
              " '해제',\n",
              " '주식',\n",
              " '베스트',\n",
              " '증권',\n",
              " '주주',\n",
              " '네트',\n",
              " '권력',\n",
              " '핵심',\n",
              " '옥스퍼드',\n",
              " '베일',\n",
              " '싸인',\n",
              " '실체',\n",
              " '트럼프',\n",
              " '코로나',\n",
              " '극찬',\n",
              " '신의',\n",
              " '선물',\n",
              " '복용',\n",
              " '이스라엘',\n",
              " '국방',\n",
              " '전후',\n",
              " '가자지구',\n",
              " '팔레스타인',\n",
              " '기구',\n",
              " '통치',\n",
              " '유엔',\n",
              " '세계',\n",
              " '경제',\n",
              " '진자',\n",
              " '급증',\n",
              " '신종',\n",
              " '코로나',\n",
              " '전염',\n",
              " '헬스',\n",
              " '일양약품',\n",
              " '본사',\n",
              " '압수수색',\n",
              " '코로나',\n",
              " '치료',\n",
              " '주가',\n",
              " '조작',\n",
              " '의혹',\n",
              " '영주시',\n",
              " '보건소',\n",
              " '코로나',\n",
              " '진료',\n",
              " '운영',\n",
              " '마무리',\n",
              " '경찰',\n",
              " '일양약품',\n",
              " '본사',\n",
              " '압수수색',\n",
              " '코로나',\n",
              " '치료',\n",
              " '주가조작',\n",
              " '의혹',\n",
              " '코로나',\n",
              " '치료',\n",
              " '주가조작',\n",
              " '의혹',\n",
              " '일양약품',\n",
              " '압수수색',\n",
              " '변화',\n",
              " '바람',\n",
              " '유업',\n",
              " '매일유업',\n",
              " '승진',\n",
              " '남양유업',\n",
              " '경영',\n",
              " '종료',\n",
              " '코로나',\n",
              " '치료',\n",
              " '주가조작',\n",
              " '의혹',\n",
              " '일양약품',\n",
              " '본사',\n",
              " '압수수색',\n",
              " '신종',\n",
              " '코로나',\n",
              " '확산',\n",
              " '심각',\n",
              " '진격',\n",
              " '홀로',\n",
              " '뒷걸음질',\n",
              " '르노',\n",
              " '차이나',\n",
              " '리포트',\n",
              " '올해',\n",
              " '경제',\n",
              " '중반',\n",
              " '성장',\n",
              " '안팎',\n",
              " '한국',\n",
              " '정부',\n",
              " '건설',\n",
              " '올인',\n",
              " '우려',\n",
              " '전통',\n",
              " '경기',\n",
              " '부양',\n",
              " '당일',\n",
              " '구경',\n",
              " '일단',\n",
              " '관광',\n",
              " '하라',\n",
              " '도시',\n",
              " '무슨',\n",
              " '전북도',\n",
              " '생명',\n",
              " '산업',\n",
              " '목표',\n",
              " '아시아',\n",
              " '보스턴']"
            ]
          },
          "metadata": {},
          "execution_count": 12
        }
      ],
      "source": [
        "# 명사만 추출 - 글자길이가 2이상인 단어만 추출\n",
        "tokens_ko = t.nouns(title_100)\n",
        "tokens_ko = [ ko for ko in tokens_ko if len(ko) > 1 ]\n",
        "tokens_ko"
      ]
    },
    {
      "cell_type": "markdown",
      "metadata": {
        "id": "hoas5Ojh9KJl"
      },
      "source": [
        "### NLTK 패키지\n",
        "- NLTK(Natural Language Toolkit) 패키지 : 교육용으로 개발된 자연어 처리 및 문서 분석용 파이썬 패키지\n",
        "- NLTK 설명 pdf : https://riptutorial.com/ebook/nltk\n",
        "\n",
        "### NLTK의 Text 클래스\n",
        "- 문서 분석에 유용한 여러가지 메서드를 제공\n",
        "- koNLPy의 형태소 분석기와 NLTK의 Text 클래스를 결합하여 NLTK 기능을 사용할 수도 있다.\n",
        "\n",
        "### NLTK의 Text 클래스 주요 메서드\n",
        "- plot 메소드 : 각 단어(토큰)의 사용 빈도를 그래프로 그려준다.\n",
        "- dispersion_plot 메서드: 단어가 사용된 위치를 시각화한다.\n",
        "- similar 메서드 : 같은 문맥에서 주어진 단어 대신 사용된 횟수가 높은 단어들을 찾는다.\n",
        "- common_contexts 메서드 : 두 단어의 공통 문맥을 보는데 사용한다.\n",
        "- vocab 메서드 : 문서에 사용된 단어(토큰)의 사용빈도 정보를 담는 메서드\n",
        "- most_common 메서드 : 가장 출현 횟수가 높은 단어를 찾는다."
      ]
    },
    {
      "cell_type": "code",
      "execution_count": null,
      "metadata": {
        "colab": {
          "base_uri": "https://localhost:8080/"
        },
        "id": "I31KJ2TiIvNg",
        "outputId": "7b20fe22-c3e4-492b-d379-ad39e9826271"
      },
      "outputs": [
        {
          "output_type": "execute_result",
          "data": {
            "text/plain": [
              "[('라면', 16),\n",
              " ('코로나', 15),\n",
              " ('수출', 13),\n",
              " ('축제', 11),\n",
              " ('최대', 10),\n",
              " ('치료', 10),\n",
              " ('사상', 9),\n",
              " ('작년', 7),\n",
              " ('산천어', 7),\n",
              " ('진료', 6),\n",
              " ('첫날', 6),\n",
              " ('화천', 6),\n",
              " ('개막', 6),\n",
              " ('산업', 5),\n",
              " ('지난해', 5),\n",
              " ('달러', 5),\n",
              " ('구급대원', 5),\n",
              " ('운영', 4),\n",
              " ('생명', 4),\n",
              " ('정부', 4),\n",
              " ('코뼈', 4),\n",
              " ('부러', 4),\n",
              " ('한국', 4),\n",
              " ('세계', 4),\n",
              " ('북적', 4),\n",
              " ('일양약품', 4),\n",
              " ('압수수색', 4),\n",
              " ('의혹', 4),\n",
              " ('신종', 3),\n",
              " ('보건소', 3),\n",
              " ('마무리', 3),\n",
              " ('의료', 3),\n",
              " ('경제', 3),\n",
              " ('한국인', 3),\n",
              " ('부가가치세', 3),\n",
              " ('간이', 3),\n",
              " ('과세', 3),\n",
              " ('기준', 3),\n",
              " ('상향', 3),\n",
              " ('폭행', 3),\n",
              " ('확산', 3),\n",
              " ('소비', 3),\n",
              " ('겨울', 3),\n",
              " ('사망', 3),\n",
              " ('본사', 3),\n",
              " ('주가조작', 3),\n",
              " ('안전', 2),\n",
              " ('우려', 2),\n",
              " ('전북', 2),\n",
              " ('고령', 2),\n",
              " ('조성', 2),\n",
              " ('올스타', 2),\n",
              " ('영주시', 2),\n",
              " ('회복', 2),\n",
              " ('도시', 2),\n",
              " ('대비', 2),\n",
              " ('증가', 2),\n",
              " ('이전', 2),\n",
              " ('사랑', 2),\n",
              " ('인기', 2),\n",
              " ('속초시', 2),\n",
              " ('철거', 2),\n",
              " ('검토', 2),\n",
              " ('이유', 2),\n",
              " ('해외', 2),\n",
              " ('잡기', 2),\n",
              " ('선거', 2),\n",
              " ('주먹', 2),\n",
              " ('선물', 2),\n",
              " ('최고', 2),\n",
              " ('배달', 2),\n",
              " ('매장', 2),\n",
              " ('여명', 2),\n",
              " ('운집', 2),\n",
              " ('얼음', 2),\n",
              " ('낚시터', 2),\n",
              " ('인파', 2),\n",
              " ('삼성', 2),\n",
              " ('아시아', 2),\n",
              " ('운항', 2),\n",
              " ('남양유업', 2),\n",
              " ('관광', 2),\n",
              " ('증권', 2),\n",
              " ('류현진', 1),\n",
              " ('투수', 1),\n",
              " ('뉴욕', 1),\n",
              " ('메츠', 1),\n",
              " ('코리안', 1),\n",
              " ('몬스터', 1),\n",
              " ('얼굴', 1),\n",
              " ('직업', 1),\n",
              " ('학교', 1),\n",
              " ('소개팅', 1),\n",
              " ('영주', 1),\n",
              " ('인터뷰', 1),\n",
              " ('윤주', 1),\n",
              " ('인천', 1),\n",
              " ('부원장', 1),\n",
              " ('언제', 1),\n",
              " ('지역', 1)]"
            ]
          },
          "metadata": {},
          "execution_count": 13
        }
      ],
      "source": [
        "# nltk\n",
        "ko = nltk.Text(tokens_ko, name='신종코로나')\n",
        "ko.vocab().most_common(100)"
      ]
    },
    {
      "cell_type": "code",
      "execution_count": null,
      "metadata": {
        "colab": {
          "base_uri": "https://localhost:8080/"
        },
        "id": "Y4P7jnvEI9yK",
        "outputId": "50d7b774-17da-4162-bbff-8c91828781f9"
      },
      "outputs": [
        {
          "output_type": "stream",
          "name": "stdout",
          "text": [
            "\n"
          ]
        }
      ],
      "source": [
        "ko.similar('진자')"
      ]
    },
    {
      "cell_type": "code",
      "execution_count": null,
      "metadata": {
        "colab": {
          "base_uri": "https://localhost:8080/",
          "height": 569
        },
        "id": "GmYVR-YwJzRu",
        "outputId": "0c7b6e40-49ec-4d7c-e5f6-d9a36402280e"
      },
      "outputs": [
        {
          "output_type": "display_data",
          "data": {
            "text/plain": [
              "<Figure size 1000x600 with 1 Axes>"
            ],
            "image/png": "[encoded data removed]"
          },
          "metadata": {
            "image/png": {
              "width": 841,
              "height": 552
            }
          }
        }
      ],
      "source": [
        "#단어빈도로 챠트 그리기\n",
        "plt.figure(figsize=(10,6))\n",
        "ko.plot(50)\n",
        "plt.show()"
      ]
    },
    {
      "cell_type": "code",
      "execution_count": null,
      "metadata": {
        "colab": {
          "base_uri": "https://localhost:8080/",
          "height": 424
        },
        "id": "g2H9nmJMI91w",
        "outputId": "999aec6a-a599-446d-dcaf-f9c35f358024"
      },
      "outputs": [
        {
          "output_type": "display_data",
          "data": {
            "text/plain": [
              "<Figure size 1000x700 with 1 Axes>"
            ],
            "image/png": "[encoded data removed]"
          },
          "metadata": {
            "image/png": {
              "width": 794,
              "height": 407
            }
          }
        }
      ],
      "source": [
        "data = ko.vocab().most_common(10)\n",
        "\n",
        "wordcloud = WordCloud(font_path='/usr/share/fonts/truetype/nanum/NanumBarunGothic.ttf',\n",
        "                      relative_scaling = 0.2,\n",
        "                      #stopwords=STOPWORDS,\n",
        "                      background_color='white',\n",
        "                      ).generate_from_frequencies(dict(data))\n",
        "plt.figure(figsize=(10,7))\n",
        "plt.imshow(wordcloud)\n",
        "plt.axis(\"off\")\n",
        "plt.show()"
      ]
    }
  ],
  "metadata": {
    "colab": {
      "provenance": [],
      "include_colab_link": true
    },
    "kernelspec": {
      "display_name": "Python 3",
      "language": "python",
      "name": "python3"
    },
    "language_info": {
      "codemirror_mode": {
        "name": "ipython",
        "version": 3
      },
      "file_extension": ".py",
      "mimetype": "text/x-python",
      "name": "python",
      "nbconvert_exporter": "python",
      "pygments_lexer": "ipython3",
      "version": "3.7.6"
    }
  },
  "nbformat": 4,
  "nbformat_minor": 0
}